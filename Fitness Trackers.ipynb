{
 "cells": [
  {
   "cell_type": "markdown",
   "id": "609f0077",
   "metadata": {},
   "source": [
    "# Analysing The Datasets"
   ]
  },
  {
   "cell_type": "code",
   "execution_count": 1,
   "id": "96d47c0c",
   "metadata": {},
   "outputs": [],
   "source": [
    "import pandas as pd\n",
    "import numpy as np\n",
    "import seaborn as sns\n",
    "import matplotlib.pyplot as plt"
   ]
  },
  {
   "cell_type": "code",
   "execution_count": 2,
   "id": "4fdc15cd",
   "metadata": {},
   "outputs": [],
   "source": [
    "fit= pd.read_csv('C:/Users/aksha/Documents/fitness.csv')"
   ]
  },
  {
   "cell_type": "code",
   "execution_count": 3,
   "id": "6cafc211",
   "metadata": {},
   "outputs": [
    {
     "data": {
      "text/html": [
       "<div>\n",
       "<style scoped>\n",
       "    .dataframe tbody tr th:only-of-type {\n",
       "        vertical-align: middle;\n",
       "    }\n",
       "\n",
       "    .dataframe tbody tr th {\n",
       "        vertical-align: top;\n",
       "    }\n",
       "\n",
       "    .dataframe thead th {\n",
       "        text-align: right;\n",
       "    }\n",
       "</style>\n",
       "<table border=\"1\" class=\"dataframe\">\n",
       "  <thead>\n",
       "    <tr style=\"text-align: right;\">\n",
       "      <th></th>\n",
       "      <th>Brand Name</th>\n",
       "      <th>Device Type</th>\n",
       "      <th>Model Name</th>\n",
       "      <th>Color</th>\n",
       "      <th>Selling Price</th>\n",
       "      <th>Original Price</th>\n",
       "      <th>Display</th>\n",
       "      <th>Rating (Out of 5)</th>\n",
       "      <th>Strap Material</th>\n",
       "      <th>Average Battery Life (in days)</th>\n",
       "      <th>Reviews</th>\n",
       "    </tr>\n",
       "  </thead>\n",
       "  <tbody>\n",
       "    <tr>\n",
       "      <th>0</th>\n",
       "      <td>Xiaomi</td>\n",
       "      <td>FitnessBand</td>\n",
       "      <td>Smart Band 5</td>\n",
       "      <td>Black</td>\n",
       "      <td>2,499</td>\n",
       "      <td>2,999</td>\n",
       "      <td>AMOLED Display</td>\n",
       "      <td>4.1</td>\n",
       "      <td>Thermoplastic polyurethane</td>\n",
       "      <td>14</td>\n",
       "      <td>NaN</td>\n",
       "    </tr>\n",
       "    <tr>\n",
       "      <th>1</th>\n",
       "      <td>Xiaomi</td>\n",
       "      <td>FitnessBand</td>\n",
       "      <td>Smart Band 4</td>\n",
       "      <td>Black</td>\n",
       "      <td>2,099</td>\n",
       "      <td>2,499</td>\n",
       "      <td>AMOLED Display</td>\n",
       "      <td>4.2</td>\n",
       "      <td>Thermoplastic polyurethane</td>\n",
       "      <td>14</td>\n",
       "      <td>NaN</td>\n",
       "    </tr>\n",
       "    <tr>\n",
       "      <th>2</th>\n",
       "      <td>Xiaomi</td>\n",
       "      <td>FitnessBand</td>\n",
       "      <td>HMSH01GE</td>\n",
       "      <td>Black</td>\n",
       "      <td>1,722</td>\n",
       "      <td>2,099</td>\n",
       "      <td>LCD Display</td>\n",
       "      <td>3.5</td>\n",
       "      <td>Leather</td>\n",
       "      <td>14</td>\n",
       "      <td>NaN</td>\n",
       "    </tr>\n",
       "    <tr>\n",
       "      <th>3</th>\n",
       "      <td>Xiaomi</td>\n",
       "      <td>FitnessBand</td>\n",
       "      <td>Smart Band 5</td>\n",
       "      <td>Black</td>\n",
       "      <td>2,469</td>\n",
       "      <td>2,999</td>\n",
       "      <td>AMOLED Display</td>\n",
       "      <td>4.1</td>\n",
       "      <td>Thermoplastic polyurethane</td>\n",
       "      <td>14</td>\n",
       "      <td>NaN</td>\n",
       "    </tr>\n",
       "    <tr>\n",
       "      <th>4</th>\n",
       "      <td>Xiaomi</td>\n",
       "      <td>FitnessBand</td>\n",
       "      <td>Band 3</td>\n",
       "      <td>Black</td>\n",
       "      <td>1,799</td>\n",
       "      <td>2,199</td>\n",
       "      <td>OLED Display</td>\n",
       "      <td>4.3</td>\n",
       "      <td>Plastic</td>\n",
       "      <td>7</td>\n",
       "      <td>NaN</td>\n",
       "    </tr>\n",
       "    <tr>\n",
       "      <th>...</th>\n",
       "      <td>...</td>\n",
       "      <td>...</td>\n",
       "      <td>...</td>\n",
       "      <td>...</td>\n",
       "      <td>...</td>\n",
       "      <td>...</td>\n",
       "      <td>...</td>\n",
       "      <td>...</td>\n",
       "      <td>...</td>\n",
       "      <td>...</td>\n",
       "      <td>...</td>\n",
       "    </tr>\n",
       "    <tr>\n",
       "      <th>560</th>\n",
       "      <td>Huawei</td>\n",
       "      <td>Smartwatch</td>\n",
       "      <td>Watch 36456</td>\n",
       "      <td>Black</td>\n",
       "      <td>55,000</td>\n",
       "      <td>55,000</td>\n",
       "      <td>AMOLED Display</td>\n",
       "      <td>4.1</td>\n",
       "      <td>Silicone</td>\n",
       "      <td>14</td>\n",
       "      <td>NaN</td>\n",
       "    </tr>\n",
       "    <tr>\n",
       "      <th>561</th>\n",
       "      <td>Huawei</td>\n",
       "      <td>Smartwatch</td>\n",
       "      <td>GT Fortuna-B19S Sport</td>\n",
       "      <td>Black</td>\n",
       "      <td>13,990</td>\n",
       "      <td>20,990</td>\n",
       "      <td>AMOLED Display</td>\n",
       "      <td>4.1</td>\n",
       "      <td>Elastomer</td>\n",
       "      <td>14</td>\n",
       "      <td>NaN</td>\n",
       "    </tr>\n",
       "    <tr>\n",
       "      <th>562</th>\n",
       "      <td>GOQii</td>\n",
       "      <td>FitnessBand</td>\n",
       "      <td>HR</td>\n",
       "      <td>Black</td>\n",
       "      <td>1,999</td>\n",
       "      <td>1,999</td>\n",
       "      <td>OLED Display</td>\n",
       "      <td>3.8</td>\n",
       "      <td>Silicone</td>\n",
       "      <td>7</td>\n",
       "      <td>NaN</td>\n",
       "    </tr>\n",
       "    <tr>\n",
       "      <th>563</th>\n",
       "      <td>GOQii</td>\n",
       "      <td>FitnessBand</td>\n",
       "      <td>Vital</td>\n",
       "      <td>Black</td>\n",
       "      <td>3,499</td>\n",
       "      <td>3,499</td>\n",
       "      <td>OLED Display</td>\n",
       "      <td>3.7</td>\n",
       "      <td>Thermoplastic polyurethane</td>\n",
       "      <td>7</td>\n",
       "      <td>NaN</td>\n",
       "    </tr>\n",
       "    <tr>\n",
       "      <th>564</th>\n",
       "      <td>FOSSIL</td>\n",
       "      <td>Smartwatch</td>\n",
       "      <td>Gen 5E</td>\n",
       "      <td>Grey, Multicolor</td>\n",
       "      <td>18,495</td>\n",
       "      <td>18,495</td>\n",
       "      <td>AMOLED Display</td>\n",
       "      <td>4.2</td>\n",
       "      <td>Stainless Steel</td>\n",
       "      <td>1</td>\n",
       "      <td>NaN</td>\n",
       "    </tr>\n",
       "  </tbody>\n",
       "</table>\n",
       "<p>565 rows × 11 columns</p>\n",
       "</div>"
      ],
      "text/plain": [
       "    Brand Name  Device Type             Model Name             Color  \\\n",
       "0       Xiaomi  FitnessBand           Smart Band 5             Black   \n",
       "1       Xiaomi  FitnessBand           Smart Band 4             Black   \n",
       "2       Xiaomi  FitnessBand               HMSH01GE             Black   \n",
       "3       Xiaomi  FitnessBand           Smart Band 5             Black   \n",
       "4       Xiaomi  FitnessBand                 Band 3             Black   \n",
       "..         ...          ...                    ...               ...   \n",
       "560     Huawei   Smartwatch            Watch 36456             Black   \n",
       "561     Huawei   Smartwatch  GT Fortuna-B19S Sport             Black   \n",
       "562      GOQii  FitnessBand                     HR             Black   \n",
       "563      GOQii  FitnessBand                  Vital             Black   \n",
       "564    FOSSIL    Smartwatch                 Gen 5E  Grey, Multicolor   \n",
       "\n",
       "    Selling Price Original Price         Display  Rating (Out of 5)  \\\n",
       "0           2,499          2,999  AMOLED Display                4.1   \n",
       "1           2,099          2,499  AMOLED Display                4.2   \n",
       "2           1,722          2,099     LCD Display                3.5   \n",
       "3           2,469          2,999  AMOLED Display                4.1   \n",
       "4           1,799          2,199    OLED Display                4.3   \n",
       "..            ...            ...             ...                ...   \n",
       "560        55,000         55,000  AMOLED Display                4.1   \n",
       "561        13,990         20,990  AMOLED Display                4.1   \n",
       "562         1,999          1,999    OLED Display                3.8   \n",
       "563         3,499          3,499    OLED Display                3.7   \n",
       "564        18,495         18,495  AMOLED Display                4.2   \n",
       "\n",
       "                 Strap Material  Average Battery Life (in days) Reviews  \n",
       "0    Thermoplastic polyurethane                              14     NaN  \n",
       "1    Thermoplastic polyurethane                              14     NaN  \n",
       "2                       Leather                              14     NaN  \n",
       "3    Thermoplastic polyurethane                              14     NaN  \n",
       "4                       Plastic                               7     NaN  \n",
       "..                          ...                             ...     ...  \n",
       "560                    Silicone                              14     NaN  \n",
       "561                   Elastomer                              14     NaN  \n",
       "562                    Silicone                               7     NaN  \n",
       "563  Thermoplastic polyurethane                               7     NaN  \n",
       "564             Stainless Steel                               1     NaN  \n",
       "\n",
       "[565 rows x 11 columns]"
      ]
     },
     "execution_count": 3,
     "metadata": {},
     "output_type": "execute_result"
    }
   ],
   "source": [
    "fit"
   ]
  },
  {
   "cell_type": "code",
   "execution_count": 4,
   "id": "3c84f8a7",
   "metadata": {},
   "outputs": [
    {
     "data": {
      "text/html": [
       "<div>\n",
       "<style scoped>\n",
       "    .dataframe tbody tr th:only-of-type {\n",
       "        vertical-align: middle;\n",
       "    }\n",
       "\n",
       "    .dataframe tbody tr th {\n",
       "        vertical-align: top;\n",
       "    }\n",
       "\n",
       "    .dataframe thead th {\n",
       "        text-align: right;\n",
       "    }\n",
       "</style>\n",
       "<table border=\"1\" class=\"dataframe\">\n",
       "  <thead>\n",
       "    <tr style=\"text-align: right;\">\n",
       "      <th></th>\n",
       "      <th>Brand Name</th>\n",
       "      <th>Device Type</th>\n",
       "      <th>Model Name</th>\n",
       "      <th>Color</th>\n",
       "      <th>Selling Price</th>\n",
       "      <th>Original Price</th>\n",
       "      <th>Display</th>\n",
       "      <th>Rating (Out of 5)</th>\n",
       "      <th>Strap Material</th>\n",
       "      <th>Average Battery Life (in days)</th>\n",
       "      <th>Reviews</th>\n",
       "    </tr>\n",
       "  </thead>\n",
       "  <tbody>\n",
       "    <tr>\n",
       "      <th>0</th>\n",
       "      <td>Xiaomi</td>\n",
       "      <td>FitnessBand</td>\n",
       "      <td>Smart Band 5</td>\n",
       "      <td>Black</td>\n",
       "      <td>2,499</td>\n",
       "      <td>2,999</td>\n",
       "      <td>AMOLED Display</td>\n",
       "      <td>4.1</td>\n",
       "      <td>Thermoplastic polyurethane</td>\n",
       "      <td>14</td>\n",
       "      <td>NaN</td>\n",
       "    </tr>\n",
       "    <tr>\n",
       "      <th>1</th>\n",
       "      <td>Xiaomi</td>\n",
       "      <td>FitnessBand</td>\n",
       "      <td>Smart Band 4</td>\n",
       "      <td>Black</td>\n",
       "      <td>2,099</td>\n",
       "      <td>2,499</td>\n",
       "      <td>AMOLED Display</td>\n",
       "      <td>4.2</td>\n",
       "      <td>Thermoplastic polyurethane</td>\n",
       "      <td>14</td>\n",
       "      <td>NaN</td>\n",
       "    </tr>\n",
       "    <tr>\n",
       "      <th>2</th>\n",
       "      <td>Xiaomi</td>\n",
       "      <td>FitnessBand</td>\n",
       "      <td>HMSH01GE</td>\n",
       "      <td>Black</td>\n",
       "      <td>1,722</td>\n",
       "      <td>2,099</td>\n",
       "      <td>LCD Display</td>\n",
       "      <td>3.5</td>\n",
       "      <td>Leather</td>\n",
       "      <td>14</td>\n",
       "      <td>NaN</td>\n",
       "    </tr>\n",
       "    <tr>\n",
       "      <th>3</th>\n",
       "      <td>Xiaomi</td>\n",
       "      <td>FitnessBand</td>\n",
       "      <td>Smart Band 5</td>\n",
       "      <td>Black</td>\n",
       "      <td>2,469</td>\n",
       "      <td>2,999</td>\n",
       "      <td>AMOLED Display</td>\n",
       "      <td>4.1</td>\n",
       "      <td>Thermoplastic polyurethane</td>\n",
       "      <td>14</td>\n",
       "      <td>NaN</td>\n",
       "    </tr>\n",
       "    <tr>\n",
       "      <th>4</th>\n",
       "      <td>Xiaomi</td>\n",
       "      <td>FitnessBand</td>\n",
       "      <td>Band 3</td>\n",
       "      <td>Black</td>\n",
       "      <td>1,799</td>\n",
       "      <td>2,199</td>\n",
       "      <td>OLED Display</td>\n",
       "      <td>4.3</td>\n",
       "      <td>Plastic</td>\n",
       "      <td>7</td>\n",
       "      <td>NaN</td>\n",
       "    </tr>\n",
       "  </tbody>\n",
       "</table>\n",
       "</div>"
      ],
      "text/plain": [
       "  Brand Name  Device Type    Model Name  Color Selling Price Original Price  \\\n",
       "0     Xiaomi  FitnessBand  Smart Band 5  Black         2,499          2,999   \n",
       "1     Xiaomi  FitnessBand  Smart Band 4  Black         2,099          2,499   \n",
       "2     Xiaomi  FitnessBand      HMSH01GE  Black         1,722          2,099   \n",
       "3     Xiaomi  FitnessBand  Smart Band 5  Black         2,469          2,999   \n",
       "4     Xiaomi  FitnessBand        Band 3  Black         1,799          2,199   \n",
       "\n",
       "          Display  Rating (Out of 5)              Strap Material  \\\n",
       "0  AMOLED Display                4.1  Thermoplastic polyurethane   \n",
       "1  AMOLED Display                4.2  Thermoplastic polyurethane   \n",
       "2     LCD Display                3.5                     Leather   \n",
       "3  AMOLED Display                4.1  Thermoplastic polyurethane   \n",
       "4    OLED Display                4.3                     Plastic   \n",
       "\n",
       "   Average Battery Life (in days) Reviews  \n",
       "0                              14     NaN  \n",
       "1                              14     NaN  \n",
       "2                              14     NaN  \n",
       "3                              14     NaN  \n",
       "4                               7     NaN  "
      ]
     },
     "execution_count": 4,
     "metadata": {},
     "output_type": "execute_result"
    }
   ],
   "source": [
    "fit.head()"
   ]
  },
  {
   "cell_type": "code",
   "execution_count": 5,
   "id": "783d8a34",
   "metadata": {},
   "outputs": [
    {
     "data": {
      "text/html": [
       "<div>\n",
       "<style scoped>\n",
       "    .dataframe tbody tr th:only-of-type {\n",
       "        vertical-align: middle;\n",
       "    }\n",
       "\n",
       "    .dataframe tbody tr th {\n",
       "        vertical-align: top;\n",
       "    }\n",
       "\n",
       "    .dataframe thead th {\n",
       "        text-align: right;\n",
       "    }\n",
       "</style>\n",
       "<table border=\"1\" class=\"dataframe\">\n",
       "  <thead>\n",
       "    <tr style=\"text-align: right;\">\n",
       "      <th></th>\n",
       "      <th>Brand Name</th>\n",
       "      <th>Device Type</th>\n",
       "      <th>Model Name</th>\n",
       "      <th>Color</th>\n",
       "      <th>Selling Price</th>\n",
       "      <th>Original Price</th>\n",
       "      <th>Display</th>\n",
       "      <th>Rating (Out of 5)</th>\n",
       "      <th>Strap Material</th>\n",
       "      <th>Average Battery Life (in days)</th>\n",
       "      <th>Reviews</th>\n",
       "    </tr>\n",
       "  </thead>\n",
       "  <tbody>\n",
       "    <tr>\n",
       "      <th>560</th>\n",
       "      <td>Huawei</td>\n",
       "      <td>Smartwatch</td>\n",
       "      <td>Watch 36456</td>\n",
       "      <td>Black</td>\n",
       "      <td>55,000</td>\n",
       "      <td>55,000</td>\n",
       "      <td>AMOLED Display</td>\n",
       "      <td>4.1</td>\n",
       "      <td>Silicone</td>\n",
       "      <td>14</td>\n",
       "      <td>NaN</td>\n",
       "    </tr>\n",
       "    <tr>\n",
       "      <th>561</th>\n",
       "      <td>Huawei</td>\n",
       "      <td>Smartwatch</td>\n",
       "      <td>GT Fortuna-B19S Sport</td>\n",
       "      <td>Black</td>\n",
       "      <td>13,990</td>\n",
       "      <td>20,990</td>\n",
       "      <td>AMOLED Display</td>\n",
       "      <td>4.1</td>\n",
       "      <td>Elastomer</td>\n",
       "      <td>14</td>\n",
       "      <td>NaN</td>\n",
       "    </tr>\n",
       "    <tr>\n",
       "      <th>562</th>\n",
       "      <td>GOQii</td>\n",
       "      <td>FitnessBand</td>\n",
       "      <td>HR</td>\n",
       "      <td>Black</td>\n",
       "      <td>1,999</td>\n",
       "      <td>1,999</td>\n",
       "      <td>OLED Display</td>\n",
       "      <td>3.8</td>\n",
       "      <td>Silicone</td>\n",
       "      <td>7</td>\n",
       "      <td>NaN</td>\n",
       "    </tr>\n",
       "    <tr>\n",
       "      <th>563</th>\n",
       "      <td>GOQii</td>\n",
       "      <td>FitnessBand</td>\n",
       "      <td>Vital</td>\n",
       "      <td>Black</td>\n",
       "      <td>3,499</td>\n",
       "      <td>3,499</td>\n",
       "      <td>OLED Display</td>\n",
       "      <td>3.7</td>\n",
       "      <td>Thermoplastic polyurethane</td>\n",
       "      <td>7</td>\n",
       "      <td>NaN</td>\n",
       "    </tr>\n",
       "    <tr>\n",
       "      <th>564</th>\n",
       "      <td>FOSSIL</td>\n",
       "      <td>Smartwatch</td>\n",
       "      <td>Gen 5E</td>\n",
       "      <td>Grey, Multicolor</td>\n",
       "      <td>18,495</td>\n",
       "      <td>18,495</td>\n",
       "      <td>AMOLED Display</td>\n",
       "      <td>4.2</td>\n",
       "      <td>Stainless Steel</td>\n",
       "      <td>1</td>\n",
       "      <td>NaN</td>\n",
       "    </tr>\n",
       "  </tbody>\n",
       "</table>\n",
       "</div>"
      ],
      "text/plain": [
       "    Brand Name  Device Type             Model Name             Color  \\\n",
       "560     Huawei   Smartwatch            Watch 36456             Black   \n",
       "561     Huawei   Smartwatch  GT Fortuna-B19S Sport             Black   \n",
       "562      GOQii  FitnessBand                     HR             Black   \n",
       "563      GOQii  FitnessBand                  Vital             Black   \n",
       "564    FOSSIL    Smartwatch                 Gen 5E  Grey, Multicolor   \n",
       "\n",
       "    Selling Price Original Price         Display  Rating (Out of 5)  \\\n",
       "560        55,000         55,000  AMOLED Display                4.1   \n",
       "561        13,990         20,990  AMOLED Display                4.1   \n",
       "562         1,999          1,999    OLED Display                3.8   \n",
       "563         3,499          3,499    OLED Display                3.7   \n",
       "564        18,495         18,495  AMOLED Display                4.2   \n",
       "\n",
       "                 Strap Material  Average Battery Life (in days) Reviews  \n",
       "560                    Silicone                              14     NaN  \n",
       "561                   Elastomer                              14     NaN  \n",
       "562                    Silicone                               7     NaN  \n",
       "563  Thermoplastic polyurethane                               7     NaN  \n",
       "564             Stainless Steel                               1     NaN  "
      ]
     },
     "execution_count": 5,
     "metadata": {},
     "output_type": "execute_result"
    }
   ],
   "source": [
    "fit.tail()"
   ]
  },
  {
   "cell_type": "code",
   "execution_count": 6,
   "id": "b5f8fcf8",
   "metadata": {},
   "outputs": [
    {
     "data": {
      "text/plain": [
       "(565, 11)"
      ]
     },
     "execution_count": 6,
     "metadata": {},
     "output_type": "execute_result"
    }
   ],
   "source": [
    "fit.shape"
   ]
  },
  {
   "cell_type": "code",
   "execution_count": 7,
   "id": "9c8749d6",
   "metadata": {},
   "outputs": [
    {
     "data": {
      "text/plain": [
       "Index(['Brand Name', 'Device Type', 'Model Name', 'Color', 'Selling Price',\n",
       "       'Original Price', 'Display', 'Rating (Out of 5)', 'Strap Material',\n",
       "       'Average Battery Life (in days)', 'Reviews'],\n",
       "      dtype='object')"
      ]
     },
     "execution_count": 7,
     "metadata": {},
     "output_type": "execute_result"
    }
   ],
   "source": [
    "fit.columns"
   ]
  },
  {
   "cell_type": "code",
   "execution_count": 8,
   "id": "88167af5",
   "metadata": {},
   "outputs": [
    {
     "data": {
      "text/plain": [
       "RangeIndex(start=0, stop=565, step=1)"
      ]
     },
     "execution_count": 8,
     "metadata": {},
     "output_type": "execute_result"
    }
   ],
   "source": [
    "fit.index"
   ]
  },
  {
   "cell_type": "markdown",
   "id": "460575f9",
   "metadata": {},
   "source": [
    "# Checking for null values"
   ]
  },
  {
   "cell_type": "code",
   "execution_count": 9,
   "id": "ceb71389",
   "metadata": {},
   "outputs": [
    {
     "data": {
      "text/plain": [
       "Brand Name                          0\n",
       "Device Type                         0\n",
       "Model Name                          0\n",
       "Color                               0\n",
       "Selling Price                       0\n",
       "Original Price                      0\n",
       "Display                             0\n",
       "Rating (Out of 5)                  51\n",
       "Strap Material                      0\n",
       "Average Battery Life (in days)      0\n",
       "Reviews                           487\n",
       "dtype: int64"
      ]
     },
     "execution_count": 9,
     "metadata": {},
     "output_type": "execute_result"
    }
   ],
   "source": [
    "fit.isnull().sum()"
   ]
  },
  {
   "cell_type": "code",
   "execution_count": 10,
   "id": "ea337ffa",
   "metadata": {},
   "outputs": [
    {
     "data": {
      "text/plain": [
       "Brand Name                         20\n",
       "Device Type                         2\n",
       "Model Name                        384\n",
       "Color                             146\n",
       "Selling Price                     244\n",
       "Original Price                    178\n",
       "Display                             7\n",
       "Rating (Out of 5)                  23\n",
       "Strap Material                     12\n",
       "Average Battery Life (in days)     17\n",
       "Reviews                            46\n",
       "dtype: int64"
      ]
     },
     "execution_count": 10,
     "metadata": {},
     "output_type": "execute_result"
    }
   ],
   "source": [
    "fit.nunique()"
   ]
  },
  {
   "cell_type": "code",
   "execution_count": 11,
   "id": "94f05c34",
   "metadata": {},
   "outputs": [
    {
     "data": {
      "text/plain": [
       "array(['Smart Band 5', 'Smart Band 4', 'HMSH01GE', 'Band 3',\n",
       "       'Band - HRX Edition', 'Band 2', 'Revolve', 'RevolveActive',\n",
       "       'Smart Band 3i', 'Steven Harrington Edition Band', 'Band',\n",
       "       'Versa 2', 'Sense', 'Versa 3', 'Charge 4', 'Inspire', 'Inspire 2',\n",
       "       'Lunar', 'FB413LVLV', 'Flex Small', 'Inspire HR', 'Charge 3',\n",
       "       'Versa Special Edition', 'Ionic', 'Versa 2 Special Edition',\n",
       "       'Versa', 'Surge', 'Charge 2', 'Charge 3 Special Edition', 'Blaze',\n",
       "       'Alta HR', 'Versa Lite Edition', 'versa', 'Charge HR', 'Alta',\n",
       "       'Smart band', 'Band 4', 'Band 6', 'Band 2 Pro Activity', 'Band 5i',\n",
       "       'Band 5', 'band 4 running', 'Band Z1', 'Beat', 'Vital 3.0',\n",
       "       'Watch', 'Mambo', 'BeFit', 'ColorFit', 'ColorFit2', '46 mm',\n",
       "       '41mm', '2 Pro', '2S', 'S', 'S Pro', 'S Master', 'Fashion',\n",
       "       'Classic', 'Reflex 3.0', 'Reflex Beat', 'Reflex Smart Band',\n",
       "       'Reflex 2.0', 'Storm', 'Xplorer', 'Delta', 'O2',\n",
       "       'ColorFit Qube SpO2', 'ColorFit Pro 3', 'ColorFit Brio',\n",
       "       'ColorFit Pro 2', 'Fit Active', 'ColorFit Qube',\n",
       "       'ColorFit Pro 2 Oxy', 'NoiseFit Endure', 'ColorFit Pro',\n",
       "       'Fit Evolve', 'Fusiom Hybrid', 'Evolve', 'Z1', 'GS Pro',\n",
       "       'Watch Magic', 'Magic Watch 2', 'Watch ES', 'Magic Watch',\n",
       "       'Amazfit GTS', 'Amazfit Bip U', 'Amazfit Bip S Lite',\n",
       "       'Amazfit T-Rex', 'Amazfit GTS 2e', 'Amazfit GTR 2 Aluminium',\n",
       "       'Amazfit GTS 2', 'Amazfit GTR 2 Stainless Steel', 'Amazfit Bip',\n",
       "       'Amazfit GTR 42 mm Glitter', 'Amazfit Neo', 'Amazfit Bip S',\n",
       "       'Amazfit GTR 42', 'Amazfit Stratos 3', 'Amazfit Pace',\n",
       "       'Amazfit GTR 47', 'Amazfit Verge', 'Amazfit Stratos',\n",
       "       'Amazfit Bip Lite', 'Amazfit Verge Lite', 'Bip Lite On',\n",
       "       'Galaxy Active 2', 'Galaxy Classic 4', 'Galaxy Classic 4 LTE',\n",
       "       'Galaxy Fit-e Smart', 'Galaxy Fit', 'Galaxy Watch 3',\n",
       "       'Galaxy Watch 4 LTE', 'Galaxy Watch 4 Classic LTE', 'Galaxy 46mm',\n",
       "       'Galaxy Active Steel 2 LTE', 'Galaxy Active Steel 2',\n",
       "       'Galaxy Active 42mm', 'Galaxy 44mm', 'Galaxy LTE', 'Gear Fit 2',\n",
       "       'Gear Fit', 'Galaxy Active 2 Steel', 'Gear S2',\n",
       "       'Galaxy Active Steel', 'Gear Fit 2 Pro', 'Gear 2', 'Neo Gear 2',\n",
       "       'Galaxy Active 46mm', 'Galaxy Watch LTE', 'Galaxy 42', 'Gear Live',\n",
       "       'Gear S3 Frontier', 'Gear Sport', 'Gear S2 Classic', 'T-Mobile',\n",
       "       'R600NZBAXAR 600', 'Gear R730V S2', 'Galaxy Gear',\n",
       "       'Activity Tracker', 'Gen 5 Carlyle HR', 'Gen 5 Garrett HR',\n",
       "       'Gen 5 Julianna HR', 'Latitude Hybrid HR', 'FB-01 Hybrid HR',\n",
       "       'Collider Hybrid', 'Sadie Hybrid', 'Commuter', 'Sport',\n",
       "       'Charter Hybrid HR', 'Carlie Hybrid', 'Carlie', 'Neutra Hybrid',\n",
       "       'Q Venture', 'Jacqueline', 'Q Neely', 'FTW5018 Hybrid',\n",
       "       'FTW5012 Hybrid', 'Jacqueline Hybrid', 'Q Annette', 'FTW6007',\n",
       "       'Gen 5E', 'FTW1151 Hybrid', 'Barstow Hybrid', 'Wander RG',\n",
       "       'Q Wander', 'Q Founder', 'Garrett Hybrid', 'Q Explorist',\n",
       "       'Marshall', 'Gen 3 Q Venture', 'FTW4003', 'Sport 43',\n",
       "       'The Carlyle HR', 'Garrett HR', '4th Gen Explorist HR', 'FTW6001',\n",
       "       'Q Founder 2.0', 'Cameron Hybrid', 'Gen 3 Q Explorist',\n",
       "       '4th Gen Venture HR', 'FTW6005', 'FTW1161 Hybrid',\n",
       "       'FTW1142 Q Hybrid', 'Cameron Hybrid Smartwatch', 'Sport 41',\n",
       "       'Q Jacqueline', 'Garrett', 'Machine Hybrid', 'Sloan HR', 'Neely',\n",
       "       'Rose Gold Smart', 'FTW1159 Hybrid', 'FTW4010 Gold HR',\n",
       "       'FTW6009 Black HR', 'Eleanor Hybrid', 'FTW1146 Q Hybrid',\n",
       "       'FTW20013 Q', 'FTW5016 Hybrid', 'FTW5017 Hybrid',\n",
       "       'FTW1141 Q Hybrid', 'FTW5003 Hybrid', 'Commuter Hybrid',\n",
       "       'Q MACHINE', 'FB-01 Hybrid', 'Q GRANT', 'FTW2114 Q',\n",
       "       'FTW1140 Q Hybrid', 'FTW1134 Q Hybrid', 'Q Control',\n",
       "       'FTW1144 Q Hybrid', 'Rose Gold HR', '5th Gen Julianna',\n",
       "       'Q Machine', 'FTW1145 Q Hybrid', 'FTW5011 Hybrid', 'FTW2120SET Q',\n",
       "       'FTW1136 Q Hybrid', 'FTW2115 Q Watch', 'FTW6010 Pink HR',\n",
       "       'Q ACTIVIST', 'FTW1154 Hybrid', 'FTW5015 Hybrid',\n",
       "       'FTW6006 Gold HR',\n",
       "       'Series 3 GPS - 42 mm Space Grey Aluminium Case',\n",
       "       'SE 44 mm Space Grey Aluminium Case',\n",
       "       'Series 3 GPS - 38 mm Space Grey Aluminium Case',\n",
       "       'SE GPS + Cellular 44 mm Aluminium Case',\n",
       "       'SE GPS + Cellular 40 mm Space Grey Aluminium Case',\n",
       "       'SE 40 mm Space Grey Aluminium Case',\n",
       "       'Series 6 GPS + Cellular 40 mm Red Aluminium Case',\n",
       "       'SE 44 mm Gold Aluminium Case',\n",
       "       'SE GPS + Cellular 40 mm Gold Aluminium Case',\n",
       "       'SE GPS + Cellular 40 mm Aluminium Case',\n",
       "       'Series 6 GPS 40 mm Silver Aluminium Case',\n",
       "       'Series 6 GPS + Cellular 40 mm Blue Aluminium Case',\n",
       "       'Series 6 GPS + Cellular 40 mm Graphite Stainless Steel Case',\n",
       "       'Series 6 GPS 44 mm Red Aluminium Case',\n",
       "       'SE GPS 44 mm Aluminium Case',\n",
       "       'Series 6 GPS + Cellular 40 mm Space Grey Aluminium Case',\n",
       "       'Series 5 GPS + Cellular 40 mm Space Black Stainless Steel Case',\n",
       "       'Series 5 GPS + Cellular 44 mm Gold Stainless Steel Case',\n",
       "       'Series 6 GPS 44 mm Blue Aluminium Case',\n",
       "       'Series 6 GPS + Cellular 44 mm Silver Aluminium Case',\n",
       "       'Series 6 GPS + Cellular 40 mm Gold Aluminium Case',\n",
       "       'Series 6 GPS + Cellular 40 mm Gold Stainless Steel Case',\n",
       "       'Series 5 GPS + Cellular 40 mm Stainless Steel Case',\n",
       "       'Series 5 GPS + Cellular 44 mm Gold Aluminium Case',\n",
       "       'Series 5 GPS + Cellular 44 mm Space Grey Aluminium Case',\n",
       "       'Series 2 - 38 mm Stainless Steel Case',\n",
       "       'Series 2 - 42 mm Stainless Steel Case',\n",
       "       'Series 2 - 42 mm Space Black Stainless Steel Case',\n",
       "       'Series 5 GPS + Cellular 40 mm Space Grey Aluminium Case',\n",
       "       'Series 6 GPS + Cellular 40 mm Silver Aluminium Case',\n",
       "       'SE GPS 40 mm Aluminium Case',\n",
       "       'Series 5 GPS + Cellular 44 mm Stainless Steel Case',\n",
       "       'Series 5 GPS 40 mm Silver Aluminium Case', 'Series 7 GPS 45 mm',\n",
       "       'SE GPS + Cellular 44 mm Space Grey Aluminium Case',\n",
       "       'Series 6 GPS + Cellular 44 mm Space Grey Aluminium Case',\n",
       "       'Series 7 GPS + Cellular 41 mm Aluminium',\n",
       "       'Series 7 GPS + Cellular, 45 mm Aluminium',\n",
       "       'SE GPS + Cellular 40 mm Silver Aluminium Case',\n",
       "       'Series 6 GPS 40 mm Blue Aluminium Case',\n",
       "       'Series 6 GPS 40 mm Gold Aluminium Case',\n",
       "       'Series 6 GPS + Cellular 44 mm Red Aluminium Case',\n",
       "       'Series 6 GPS 40 mm Space Grey Aluminium Case',\n",
       "       'Series 6 GPS + Cellular 44 mm Silver Stainless Steel Case',\n",
       "       'Nike Series 5 GPS + Cellular 44 mm',\n",
       "       'Series 6 GPS + Cellular 44 mm Blue Aluminium Case',\n",
       "       'SE GPS + Cellular 44 mm Gold Aluminium Case',\n",
       "       'SE GPS + Cellular 44 mm Silver Aluminium Case',\n",
       "       'Series 6 GPS 44 mm Space Grey Aluminium Case',\n",
       "       'Series 6 GPS 44 mm Silver Aluminium Case',\n",
       "       'Series 6 GPS + Cellular 44 mm Graphite Stainless Steel Case',\n",
       "       'Series 5 GPS + Cellular 44 mm Space Black Stainless Steel Case',\n",
       "       '42 mm White Ceramic Case with Cloud Sport',\n",
       "       'Series 7 GPS 41 mm Aluminium Case',\n",
       "       '38 mm Space Black Stainless Steel Case',\n",
       "       'Series 7 GPS + Cellular, 45 mm Stainless Steel',\n",
       "       'Sport 42 mm Space Grey Aluminium Case',\n",
       "       '8 mm Stainless Steel Case',\n",
       "       'Series 7 GPS + Cellular, 41 mm Stainless Steel',\n",
       "       '42 mm Black Stainless Steel Case with Link Bracelet',\n",
       "       '42 mm Space Gray Aluminium',\n",
       "       'Series 1 - 38 mm Silver Aluminium Case',\n",
       "       'Series 3 GPS + Cellular- 42 mm Gray Ceramic Case',\n",
       "       '42 mm Stainless Steel Case',\n",
       "       'Series 1 - 42 mm Gold Aluminium Case',\n",
       "       '2 - 42 mm Silver Aluminium Case',\n",
       "       'Nike+ GPS - 42 mm Space Gray Aluminium Case',\n",
       "       'Series 3 GPS + Cellular- 42 mm White Ceramic Case',\n",
       "       '38 mm Stainless Steel Stainless Steel Case with Modern Buckle',\n",
       "       'series 2 - 38 mm Stainless Steel Case',\n",
       "       'Nike+ - 38 mm Space Gray Aluminium Case',\n",
       "       'Venu Sq - Music Edition', 'Venu Sq', 'Garmin Instinct Tactical',\n",
       "       'Venu', 'Forerunner 45', 'Venu 2', 'Vivosmart 4',\n",
       "       'Garmin Instinct HR', 'Approach S62', 'Venu 2S',\n",
       "       'Forerunner 245 Music', 'Instinct', 'Forerunner 245',\n",
       "       'Vivomove Style', 'Fenix 6 Pro Solar', 'Fenix 6X',\n",
       "       'FORERUNNER 745 Magma Red', 'Fenix 6', 'Lily', 'Approach S12',\n",
       "       'Vivomove 3', 'Fenix 6X Solar', 'Fenix 5X', 'Vivomove Luxe',\n",
       "       'Vivomove', 'Fenix 6S', 'Forerunner 945', 'Forerunner 55',\n",
       "       'VIVOMOVE LUXE', 'Fenix 5X Plus', 'Swim 2', 'Vivoactive 3 Element',\n",
       "       'Vivomove 3S', 'Vivoactive 3 Music', 'Vivomove HR', 'HRM-Swim',\n",
       "       'Garmin Instinct Solar Tactical', 'Fenix 5S Frost Blue',\n",
       "       'Forerunner 935', 'Hybrid 3', 'Forerunner 245 Music Japan Edition',\n",
       "       'Fenix 5', 'Instinct Solar Tidal', 'Fenix 5S Plus',\n",
       "       'Fenix 6 Sapphire Titanium', 'Fenix 6 Sapphire Gray DLC',\n",
       "       'Forerunner 745 Whitestone', 'VIVOACTIVE 4S', 'Forerunner 235',\n",
       "       'Vivoactive 4', 'Forerunner 745 Black', 'Vivoactive HR',\n",
       "       'Fenix 5s', 'vivoactive 4S 40mm', 'Instinct Solar Camo Edition',\n",
       "       'Vivoactive 3 Element Cerise', 'VIVOMOVE 3S Navy',\n",
       "       'Forerunner15 Heart', 'Running GPS 935', 'Forerunner',\n",
       "       'Approach S20', 'Forerunner 235 Activity Tracker',\n",
       "       'Vivoactive 3 element', 'Fenix', 'Forerunner 35', 'Rubber 35',\n",
       "       'FORRUNNER 235', 'Forerunner Fitness Notifier', 'Vivoactive',\n",
       "       'Forerunner 735XT', 'HR GPS Smart', 'Hybrid', 'GT2 46mm',\n",
       "       'GT2 Pro', 'GT2 eSport', 'GT2 eActive', 'GT2 42mm',\n",
       "       'Stainless Steel', 'GT Active', 'GT Sport', 'GT Classic', 'Fit',\n",
       "       'Watch 2 Sport', 'Watch 32564546', 'Watch 2', 'Watch 36456',\n",
       "       'GT Fortuna-B19S Sport', 'HR', 'Vital'], dtype=object)"
      ]
     },
     "execution_count": 11,
     "metadata": {},
     "output_type": "execute_result"
    }
   ],
   "source": [
    "fit['Model Name'].unique()"
   ]
  },
  {
   "cell_type": "code",
   "execution_count": 12,
   "id": "388fe4e6",
   "metadata": {},
   "outputs": [
    {
     "data": {
      "text/plain": [
       "array(['AMOLED Display', 'LCD Display', 'OLED Display', 'PMOLED Display',\n",
       "       'LED Display', 'TFT-LCD Display', 'OLED Retina Display'],\n",
       "      dtype=object)"
      ]
     },
     "execution_count": 12,
     "metadata": {},
     "output_type": "execute_result"
    }
   ],
   "source": [
    "fit['Display'].unique()"
   ]
  },
  {
   "cell_type": "markdown",
   "id": "9c4bdd62",
   "metadata": {},
   "source": [
    "# Inspecting for null values"
   ]
  },
  {
   "cell_type": "code",
   "execution_count": 13,
   "id": "c35b65f1",
   "metadata": {},
   "outputs": [],
   "source": [
    "fit2= fit.drop(['Reviews'], axis=1)"
   ]
  },
  {
   "cell_type": "code",
   "execution_count": 14,
   "id": "a3ffa262",
   "metadata": {},
   "outputs": [
    {
     "data": {
      "text/html": [
       "<div>\n",
       "<style scoped>\n",
       "    .dataframe tbody tr th:only-of-type {\n",
       "        vertical-align: middle;\n",
       "    }\n",
       "\n",
       "    .dataframe tbody tr th {\n",
       "        vertical-align: top;\n",
       "    }\n",
       "\n",
       "    .dataframe thead th {\n",
       "        text-align: right;\n",
       "    }\n",
       "</style>\n",
       "<table border=\"1\" class=\"dataframe\">\n",
       "  <thead>\n",
       "    <tr style=\"text-align: right;\">\n",
       "      <th></th>\n",
       "      <th>Brand Name</th>\n",
       "      <th>Device Type</th>\n",
       "      <th>Model Name</th>\n",
       "      <th>Color</th>\n",
       "      <th>Selling Price</th>\n",
       "      <th>Original Price</th>\n",
       "      <th>Display</th>\n",
       "      <th>Rating (Out of 5)</th>\n",
       "      <th>Strap Material</th>\n",
       "      <th>Average Battery Life (in days)</th>\n",
       "    </tr>\n",
       "  </thead>\n",
       "  <tbody>\n",
       "    <tr>\n",
       "      <th>0</th>\n",
       "      <td>Xiaomi</td>\n",
       "      <td>FitnessBand</td>\n",
       "      <td>Smart Band 5</td>\n",
       "      <td>Black</td>\n",
       "      <td>2,499</td>\n",
       "      <td>2,999</td>\n",
       "      <td>AMOLED Display</td>\n",
       "      <td>4.1</td>\n",
       "      <td>Thermoplastic polyurethane</td>\n",
       "      <td>14</td>\n",
       "    </tr>\n",
       "    <tr>\n",
       "      <th>1</th>\n",
       "      <td>Xiaomi</td>\n",
       "      <td>FitnessBand</td>\n",
       "      <td>Smart Band 4</td>\n",
       "      <td>Black</td>\n",
       "      <td>2,099</td>\n",
       "      <td>2,499</td>\n",
       "      <td>AMOLED Display</td>\n",
       "      <td>4.2</td>\n",
       "      <td>Thermoplastic polyurethane</td>\n",
       "      <td>14</td>\n",
       "    </tr>\n",
       "    <tr>\n",
       "      <th>2</th>\n",
       "      <td>Xiaomi</td>\n",
       "      <td>FitnessBand</td>\n",
       "      <td>HMSH01GE</td>\n",
       "      <td>Black</td>\n",
       "      <td>1,722</td>\n",
       "      <td>2,099</td>\n",
       "      <td>LCD Display</td>\n",
       "      <td>3.5</td>\n",
       "      <td>Leather</td>\n",
       "      <td>14</td>\n",
       "    </tr>\n",
       "    <tr>\n",
       "      <th>3</th>\n",
       "      <td>Xiaomi</td>\n",
       "      <td>FitnessBand</td>\n",
       "      <td>Smart Band 5</td>\n",
       "      <td>Black</td>\n",
       "      <td>2,469</td>\n",
       "      <td>2,999</td>\n",
       "      <td>AMOLED Display</td>\n",
       "      <td>4.1</td>\n",
       "      <td>Thermoplastic polyurethane</td>\n",
       "      <td>14</td>\n",
       "    </tr>\n",
       "    <tr>\n",
       "      <th>4</th>\n",
       "      <td>Xiaomi</td>\n",
       "      <td>FitnessBand</td>\n",
       "      <td>Band 3</td>\n",
       "      <td>Black</td>\n",
       "      <td>1,799</td>\n",
       "      <td>2,199</td>\n",
       "      <td>OLED Display</td>\n",
       "      <td>4.3</td>\n",
       "      <td>Plastic</td>\n",
       "      <td>7</td>\n",
       "    </tr>\n",
       "    <tr>\n",
       "      <th>...</th>\n",
       "      <td>...</td>\n",
       "      <td>...</td>\n",
       "      <td>...</td>\n",
       "      <td>...</td>\n",
       "      <td>...</td>\n",
       "      <td>...</td>\n",
       "      <td>...</td>\n",
       "      <td>...</td>\n",
       "      <td>...</td>\n",
       "      <td>...</td>\n",
       "    </tr>\n",
       "    <tr>\n",
       "      <th>560</th>\n",
       "      <td>Huawei</td>\n",
       "      <td>Smartwatch</td>\n",
       "      <td>Watch 36456</td>\n",
       "      <td>Black</td>\n",
       "      <td>55,000</td>\n",
       "      <td>55,000</td>\n",
       "      <td>AMOLED Display</td>\n",
       "      <td>4.1</td>\n",
       "      <td>Silicone</td>\n",
       "      <td>14</td>\n",
       "    </tr>\n",
       "    <tr>\n",
       "      <th>561</th>\n",
       "      <td>Huawei</td>\n",
       "      <td>Smartwatch</td>\n",
       "      <td>GT Fortuna-B19S Sport</td>\n",
       "      <td>Black</td>\n",
       "      <td>13,990</td>\n",
       "      <td>20,990</td>\n",
       "      <td>AMOLED Display</td>\n",
       "      <td>4.1</td>\n",
       "      <td>Elastomer</td>\n",
       "      <td>14</td>\n",
       "    </tr>\n",
       "    <tr>\n",
       "      <th>562</th>\n",
       "      <td>GOQii</td>\n",
       "      <td>FitnessBand</td>\n",
       "      <td>HR</td>\n",
       "      <td>Black</td>\n",
       "      <td>1,999</td>\n",
       "      <td>1,999</td>\n",
       "      <td>OLED Display</td>\n",
       "      <td>3.8</td>\n",
       "      <td>Silicone</td>\n",
       "      <td>7</td>\n",
       "    </tr>\n",
       "    <tr>\n",
       "      <th>563</th>\n",
       "      <td>GOQii</td>\n",
       "      <td>FitnessBand</td>\n",
       "      <td>Vital</td>\n",
       "      <td>Black</td>\n",
       "      <td>3,499</td>\n",
       "      <td>3,499</td>\n",
       "      <td>OLED Display</td>\n",
       "      <td>3.7</td>\n",
       "      <td>Thermoplastic polyurethane</td>\n",
       "      <td>7</td>\n",
       "    </tr>\n",
       "    <tr>\n",
       "      <th>564</th>\n",
       "      <td>FOSSIL</td>\n",
       "      <td>Smartwatch</td>\n",
       "      <td>Gen 5E</td>\n",
       "      <td>Grey, Multicolor</td>\n",
       "      <td>18,495</td>\n",
       "      <td>18,495</td>\n",
       "      <td>AMOLED Display</td>\n",
       "      <td>4.2</td>\n",
       "      <td>Stainless Steel</td>\n",
       "      <td>1</td>\n",
       "    </tr>\n",
       "  </tbody>\n",
       "</table>\n",
       "<p>565 rows × 10 columns</p>\n",
       "</div>"
      ],
      "text/plain": [
       "    Brand Name  Device Type             Model Name             Color  \\\n",
       "0       Xiaomi  FitnessBand           Smart Band 5             Black   \n",
       "1       Xiaomi  FitnessBand           Smart Band 4             Black   \n",
       "2       Xiaomi  FitnessBand               HMSH01GE             Black   \n",
       "3       Xiaomi  FitnessBand           Smart Band 5             Black   \n",
       "4       Xiaomi  FitnessBand                 Band 3             Black   \n",
       "..         ...          ...                    ...               ...   \n",
       "560     Huawei   Smartwatch            Watch 36456             Black   \n",
       "561     Huawei   Smartwatch  GT Fortuna-B19S Sport             Black   \n",
       "562      GOQii  FitnessBand                     HR             Black   \n",
       "563      GOQii  FitnessBand                  Vital             Black   \n",
       "564    FOSSIL    Smartwatch                 Gen 5E  Grey, Multicolor   \n",
       "\n",
       "    Selling Price Original Price         Display  Rating (Out of 5)  \\\n",
       "0           2,499          2,999  AMOLED Display                4.1   \n",
       "1           2,099          2,499  AMOLED Display                4.2   \n",
       "2           1,722          2,099     LCD Display                3.5   \n",
       "3           2,469          2,999  AMOLED Display                4.1   \n",
       "4           1,799          2,199    OLED Display                4.3   \n",
       "..            ...            ...             ...                ...   \n",
       "560        55,000         55,000  AMOLED Display                4.1   \n",
       "561        13,990         20,990  AMOLED Display                4.1   \n",
       "562         1,999          1,999    OLED Display                3.8   \n",
       "563         3,499          3,499    OLED Display                3.7   \n",
       "564        18,495         18,495  AMOLED Display                4.2   \n",
       "\n",
       "                 Strap Material  Average Battery Life (in days)  \n",
       "0    Thermoplastic polyurethane                              14  \n",
       "1    Thermoplastic polyurethane                              14  \n",
       "2                       Leather                              14  \n",
       "3    Thermoplastic polyurethane                              14  \n",
       "4                       Plastic                               7  \n",
       "..                          ...                             ...  \n",
       "560                    Silicone                              14  \n",
       "561                   Elastomer                              14  \n",
       "562                    Silicone                               7  \n",
       "563  Thermoplastic polyurethane                               7  \n",
       "564             Stainless Steel                               1  \n",
       "\n",
       "[565 rows x 10 columns]"
      ]
     },
     "execution_count": 14,
     "metadata": {},
     "output_type": "execute_result"
    }
   ],
   "source": [
    "fit2"
   ]
  },
  {
   "cell_type": "code",
   "execution_count": 15,
   "id": "ba9ffe4b",
   "metadata": {},
   "outputs": [
    {
     "data": {
      "text/plain": [
       "(565, 10)"
      ]
     },
     "execution_count": 15,
     "metadata": {},
     "output_type": "execute_result"
    }
   ],
   "source": [
    "fit2.shape"
   ]
  },
  {
   "cell_type": "code",
   "execution_count": 16,
   "id": "a9d6887c",
   "metadata": {},
   "outputs": [
    {
     "data": {
      "text/plain": [
       "Brand Name                         0\n",
       "Device Type                        0\n",
       "Model Name                         0\n",
       "Color                              0\n",
       "Selling Price                      0\n",
       "Original Price                     0\n",
       "Display                            0\n",
       "Rating (Out of 5)                 51\n",
       "Strap Material                     0\n",
       "Average Battery Life (in days)     0\n",
       "dtype: int64"
      ]
     },
     "execution_count": 16,
     "metadata": {},
     "output_type": "execute_result"
    }
   ],
   "source": [
    "fit2.isnull().sum()"
   ]
  },
  {
   "cell_type": "markdown",
   "id": "2adc9339",
   "metadata": {},
   "source": [
    "# Deleting null values rows and columns"
   ]
  },
  {
   "cell_type": "code",
   "execution_count": 17,
   "id": "e14283be",
   "metadata": {},
   "outputs": [],
   "source": [
    "fit3 = fit2.fillna({'Rating (Out of 5)':0})"
   ]
  },
  {
   "cell_type": "code",
   "execution_count": 18,
   "id": "8e20ab7e",
   "metadata": {},
   "outputs": [
    {
     "data": {
      "text/plain": [
       "Brand Name                        0\n",
       "Device Type                       0\n",
       "Model Name                        0\n",
       "Color                             0\n",
       "Selling Price                     0\n",
       "Original Price                    0\n",
       "Display                           0\n",
       "Rating (Out of 5)                 0\n",
       "Strap Material                    0\n",
       "Average Battery Life (in days)    0\n",
       "dtype: int64"
      ]
     },
     "execution_count": 18,
     "metadata": {},
     "output_type": "execute_result"
    }
   ],
   "source": [
    "fit3.isnull().sum()"
   ]
  },
  {
   "cell_type": "code",
   "execution_count": 19,
   "id": "4613e523",
   "metadata": {},
   "outputs": [
    {
     "data": {
      "text/html": [
       "<div>\n",
       "<style scoped>\n",
       "    .dataframe tbody tr th:only-of-type {\n",
       "        vertical-align: middle;\n",
       "    }\n",
       "\n",
       "    .dataframe tbody tr th {\n",
       "        vertical-align: top;\n",
       "    }\n",
       "\n",
       "    .dataframe thead th {\n",
       "        text-align: right;\n",
       "    }\n",
       "</style>\n",
       "<table border=\"1\" class=\"dataframe\">\n",
       "  <thead>\n",
       "    <tr style=\"text-align: right;\">\n",
       "      <th></th>\n",
       "      <th>Brand Name</th>\n",
       "      <th>Device Type</th>\n",
       "      <th>Model Name</th>\n",
       "      <th>Color</th>\n",
       "      <th>Selling Price</th>\n",
       "      <th>Original Price</th>\n",
       "      <th>Display</th>\n",
       "      <th>Rating (Out of 5)</th>\n",
       "      <th>Strap Material</th>\n",
       "      <th>Average Battery Life (in days)</th>\n",
       "    </tr>\n",
       "  </thead>\n",
       "  <tbody>\n",
       "    <tr>\n",
       "      <th>0</th>\n",
       "      <td>Xiaomi</td>\n",
       "      <td>FitnessBand</td>\n",
       "      <td>Smart Band 5</td>\n",
       "      <td>Black</td>\n",
       "      <td>2,499</td>\n",
       "      <td>2,999</td>\n",
       "      <td>AMOLED Display</td>\n",
       "      <td>4.1</td>\n",
       "      <td>Thermoplastic polyurethane</td>\n",
       "      <td>14</td>\n",
       "    </tr>\n",
       "    <tr>\n",
       "      <th>1</th>\n",
       "      <td>Xiaomi</td>\n",
       "      <td>FitnessBand</td>\n",
       "      <td>Smart Band 4</td>\n",
       "      <td>Black</td>\n",
       "      <td>2,099</td>\n",
       "      <td>2,499</td>\n",
       "      <td>AMOLED Display</td>\n",
       "      <td>4.2</td>\n",
       "      <td>Thermoplastic polyurethane</td>\n",
       "      <td>14</td>\n",
       "    </tr>\n",
       "    <tr>\n",
       "      <th>2</th>\n",
       "      <td>Xiaomi</td>\n",
       "      <td>FitnessBand</td>\n",
       "      <td>HMSH01GE</td>\n",
       "      <td>Black</td>\n",
       "      <td>1,722</td>\n",
       "      <td>2,099</td>\n",
       "      <td>LCD Display</td>\n",
       "      <td>3.5</td>\n",
       "      <td>Leather</td>\n",
       "      <td>14</td>\n",
       "    </tr>\n",
       "    <tr>\n",
       "      <th>3</th>\n",
       "      <td>Xiaomi</td>\n",
       "      <td>FitnessBand</td>\n",
       "      <td>Smart Band 5</td>\n",
       "      <td>Black</td>\n",
       "      <td>2,469</td>\n",
       "      <td>2,999</td>\n",
       "      <td>AMOLED Display</td>\n",
       "      <td>4.1</td>\n",
       "      <td>Thermoplastic polyurethane</td>\n",
       "      <td>14</td>\n",
       "    </tr>\n",
       "    <tr>\n",
       "      <th>4</th>\n",
       "      <td>Xiaomi</td>\n",
       "      <td>FitnessBand</td>\n",
       "      <td>Band 3</td>\n",
       "      <td>Black</td>\n",
       "      <td>1,799</td>\n",
       "      <td>2,199</td>\n",
       "      <td>OLED Display</td>\n",
       "      <td>4.3</td>\n",
       "      <td>Plastic</td>\n",
       "      <td>7</td>\n",
       "    </tr>\n",
       "    <tr>\n",
       "      <th>...</th>\n",
       "      <td>...</td>\n",
       "      <td>...</td>\n",
       "      <td>...</td>\n",
       "      <td>...</td>\n",
       "      <td>...</td>\n",
       "      <td>...</td>\n",
       "      <td>...</td>\n",
       "      <td>...</td>\n",
       "      <td>...</td>\n",
       "      <td>...</td>\n",
       "    </tr>\n",
       "    <tr>\n",
       "      <th>560</th>\n",
       "      <td>Huawei</td>\n",
       "      <td>Smartwatch</td>\n",
       "      <td>Watch 36456</td>\n",
       "      <td>Black</td>\n",
       "      <td>55,000</td>\n",
       "      <td>55,000</td>\n",
       "      <td>AMOLED Display</td>\n",
       "      <td>4.1</td>\n",
       "      <td>Silicone</td>\n",
       "      <td>14</td>\n",
       "    </tr>\n",
       "    <tr>\n",
       "      <th>561</th>\n",
       "      <td>Huawei</td>\n",
       "      <td>Smartwatch</td>\n",
       "      <td>GT Fortuna-B19S Sport</td>\n",
       "      <td>Black</td>\n",
       "      <td>13,990</td>\n",
       "      <td>20,990</td>\n",
       "      <td>AMOLED Display</td>\n",
       "      <td>4.1</td>\n",
       "      <td>Elastomer</td>\n",
       "      <td>14</td>\n",
       "    </tr>\n",
       "    <tr>\n",
       "      <th>562</th>\n",
       "      <td>GOQii</td>\n",
       "      <td>FitnessBand</td>\n",
       "      <td>HR</td>\n",
       "      <td>Black</td>\n",
       "      <td>1,999</td>\n",
       "      <td>1,999</td>\n",
       "      <td>OLED Display</td>\n",
       "      <td>3.8</td>\n",
       "      <td>Silicone</td>\n",
       "      <td>7</td>\n",
       "    </tr>\n",
       "    <tr>\n",
       "      <th>563</th>\n",
       "      <td>GOQii</td>\n",
       "      <td>FitnessBand</td>\n",
       "      <td>Vital</td>\n",
       "      <td>Black</td>\n",
       "      <td>3,499</td>\n",
       "      <td>3,499</td>\n",
       "      <td>OLED Display</td>\n",
       "      <td>3.7</td>\n",
       "      <td>Thermoplastic polyurethane</td>\n",
       "      <td>7</td>\n",
       "    </tr>\n",
       "    <tr>\n",
       "      <th>564</th>\n",
       "      <td>FOSSIL</td>\n",
       "      <td>Smartwatch</td>\n",
       "      <td>Gen 5E</td>\n",
       "      <td>Grey, Multicolor</td>\n",
       "      <td>18,495</td>\n",
       "      <td>18,495</td>\n",
       "      <td>AMOLED Display</td>\n",
       "      <td>4.2</td>\n",
       "      <td>Stainless Steel</td>\n",
       "      <td>1</td>\n",
       "    </tr>\n",
       "  </tbody>\n",
       "</table>\n",
       "<p>565 rows × 10 columns</p>\n",
       "</div>"
      ],
      "text/plain": [
       "    Brand Name  Device Type             Model Name             Color  \\\n",
       "0       Xiaomi  FitnessBand           Smart Band 5             Black   \n",
       "1       Xiaomi  FitnessBand           Smart Band 4             Black   \n",
       "2       Xiaomi  FitnessBand               HMSH01GE             Black   \n",
       "3       Xiaomi  FitnessBand           Smart Band 5             Black   \n",
       "4       Xiaomi  FitnessBand                 Band 3             Black   \n",
       "..         ...          ...                    ...               ...   \n",
       "560     Huawei   Smartwatch            Watch 36456             Black   \n",
       "561     Huawei   Smartwatch  GT Fortuna-B19S Sport             Black   \n",
       "562      GOQii  FitnessBand                     HR             Black   \n",
       "563      GOQii  FitnessBand                  Vital             Black   \n",
       "564    FOSSIL    Smartwatch                 Gen 5E  Grey, Multicolor   \n",
       "\n",
       "    Selling Price Original Price         Display  Rating (Out of 5)  \\\n",
       "0           2,499          2,999  AMOLED Display                4.1   \n",
       "1           2,099          2,499  AMOLED Display                4.2   \n",
       "2           1,722          2,099     LCD Display                3.5   \n",
       "3           2,469          2,999  AMOLED Display                4.1   \n",
       "4           1,799          2,199    OLED Display                4.3   \n",
       "..            ...            ...             ...                ...   \n",
       "560        55,000         55,000  AMOLED Display                4.1   \n",
       "561        13,990         20,990  AMOLED Display                4.1   \n",
       "562         1,999          1,999    OLED Display                3.8   \n",
       "563         3,499          3,499    OLED Display                3.7   \n",
       "564        18,495         18,495  AMOLED Display                4.2   \n",
       "\n",
       "                 Strap Material  Average Battery Life (in days)  \n",
       "0    Thermoplastic polyurethane                              14  \n",
       "1    Thermoplastic polyurethane                              14  \n",
       "2                       Leather                              14  \n",
       "3    Thermoplastic polyurethane                              14  \n",
       "4                       Plastic                               7  \n",
       "..                          ...                             ...  \n",
       "560                    Silicone                              14  \n",
       "561                   Elastomer                              14  \n",
       "562                    Silicone                               7  \n",
       "563  Thermoplastic polyurethane                               7  \n",
       "564             Stainless Steel                               1  \n",
       "\n",
       "[565 rows x 10 columns]"
      ]
     },
     "execution_count": 19,
     "metadata": {},
     "output_type": "execute_result"
    }
   ],
   "source": [
    "fit3"
   ]
  },
  {
   "cell_type": "code",
   "execution_count": 20,
   "id": "4b1968f4",
   "metadata": {},
   "outputs": [
    {
     "data": {
      "text/html": [
       "<div>\n",
       "<style scoped>\n",
       "    .dataframe tbody tr th:only-of-type {\n",
       "        vertical-align: middle;\n",
       "    }\n",
       "\n",
       "    .dataframe tbody tr th {\n",
       "        vertical-align: top;\n",
       "    }\n",
       "\n",
       "    .dataframe thead th {\n",
       "        text-align: right;\n",
       "    }\n",
       "</style>\n",
       "<table border=\"1\" class=\"dataframe\">\n",
       "  <thead>\n",
       "    <tr style=\"text-align: right;\">\n",
       "      <th></th>\n",
       "      <th>Brand Name</th>\n",
       "      <th>Device Type</th>\n",
       "      <th>Model Name</th>\n",
       "      <th>Color</th>\n",
       "      <th>Selling Price</th>\n",
       "      <th>Original Price</th>\n",
       "      <th>Display</th>\n",
       "      <th>Rating (Out of 5)</th>\n",
       "      <th>Strap Material</th>\n",
       "      <th>Average Battery Life (in days)</th>\n",
       "    </tr>\n",
       "  </thead>\n",
       "  <tbody>\n",
       "    <tr>\n",
       "      <th>540</th>\n",
       "      <td>GARMIN</td>\n",
       "      <td>Smartwatch</td>\n",
       "      <td>Hybrid</td>\n",
       "      <td>Rose Gold</td>\n",
       "      <td>15,911</td>\n",
       "      <td>21,335</td>\n",
       "      <td>LED Display</td>\n",
       "      <td>0.0</td>\n",
       "      <td>Silicone</td>\n",
       "      <td>7</td>\n",
       "    </tr>\n",
       "    <tr>\n",
       "      <th>541</th>\n",
       "      <td>OnePlus</td>\n",
       "      <td>Smartwatch</td>\n",
       "      <td>Watch</td>\n",
       "      <td>Black, Silver</td>\n",
       "      <td>14,999</td>\n",
       "      <td>16,999</td>\n",
       "      <td>AMOLED Display</td>\n",
       "      <td>4.4</td>\n",
       "      <td>Elastomer</td>\n",
       "      <td>14</td>\n",
       "    </tr>\n",
       "    <tr>\n",
       "      <th>542</th>\n",
       "      <td>Huawei</td>\n",
       "      <td>Smartwatch</td>\n",
       "      <td>GT2 46mm</td>\n",
       "      <td>Black, Brown</td>\n",
       "      <td>14,990</td>\n",
       "      <td>20,990</td>\n",
       "      <td>AMOLED Display</td>\n",
       "      <td>4.5</td>\n",
       "      <td>Elastomer</td>\n",
       "      <td>14</td>\n",
       "    </tr>\n",
       "    <tr>\n",
       "      <th>543</th>\n",
       "      <td>Huawei</td>\n",
       "      <td>Smartwatch</td>\n",
       "      <td>GT2 Pro</td>\n",
       "      <td>Black</td>\n",
       "      <td>22,990</td>\n",
       "      <td>29,990</td>\n",
       "      <td>AMOLED Display</td>\n",
       "      <td>4.4</td>\n",
       "      <td>Elastomer</td>\n",
       "      <td>14</td>\n",
       "    </tr>\n",
       "    <tr>\n",
       "      <th>544</th>\n",
       "      <td>Huawei</td>\n",
       "      <td>Smartwatch</td>\n",
       "      <td>GT2 Pro</td>\n",
       "      <td>Grey</td>\n",
       "      <td>24,990</td>\n",
       "      <td>34,990</td>\n",
       "      <td>AMOLED Display</td>\n",
       "      <td>3.5</td>\n",
       "      <td>Elastomer</td>\n",
       "      <td>14</td>\n",
       "    </tr>\n",
       "    <tr>\n",
       "      <th>545</th>\n",
       "      <td>Huawei</td>\n",
       "      <td>Smartwatch</td>\n",
       "      <td>GT2 eSport</td>\n",
       "      <td>Black</td>\n",
       "      <td>11,990</td>\n",
       "      <td>19,990</td>\n",
       "      <td>AMOLED Display</td>\n",
       "      <td>4.3</td>\n",
       "      <td>Elastomer</td>\n",
       "      <td>14</td>\n",
       "    </tr>\n",
       "    <tr>\n",
       "      <th>546</th>\n",
       "      <td>Huawei</td>\n",
       "      <td>Smartwatch</td>\n",
       "      <td>GT2 eSport</td>\n",
       "      <td>Red</td>\n",
       "      <td>8,990</td>\n",
       "      <td>19,990</td>\n",
       "      <td>AMOLED Display</td>\n",
       "      <td>4.3</td>\n",
       "      <td>Elastomer</td>\n",
       "      <td>14</td>\n",
       "    </tr>\n",
       "    <tr>\n",
       "      <th>547</th>\n",
       "      <td>Huawei</td>\n",
       "      <td>Smartwatch</td>\n",
       "      <td>GT2 eActive</td>\n",
       "      <td>Green, Red</td>\n",
       "      <td>11,990</td>\n",
       "      <td>19,990</td>\n",
       "      <td>AMOLED Display</td>\n",
       "      <td>4.3</td>\n",
       "      <td>Thermoplastic polyurethane</td>\n",
       "      <td>14</td>\n",
       "    </tr>\n",
       "    <tr>\n",
       "      <th>548</th>\n",
       "      <td>Huawei</td>\n",
       "      <td>Smartwatch</td>\n",
       "      <td>GT2 42mm</td>\n",
       "      <td>Black</td>\n",
       "      <td>14,990</td>\n",
       "      <td>19,990</td>\n",
       "      <td>AMOLED Display</td>\n",
       "      <td>4.3</td>\n",
       "      <td>Elastomer</td>\n",
       "      <td>14</td>\n",
       "    </tr>\n",
       "    <tr>\n",
       "      <th>549</th>\n",
       "      <td>Huawei</td>\n",
       "      <td>Smartwatch</td>\n",
       "      <td>Stainless Steel</td>\n",
       "      <td>Black</td>\n",
       "      <td>19,990</td>\n",
       "      <td>19,990</td>\n",
       "      <td>AMOLED Display</td>\n",
       "      <td>4.5</td>\n",
       "      <td>Leather</td>\n",
       "      <td>14</td>\n",
       "    </tr>\n",
       "    <tr>\n",
       "      <th>550</th>\n",
       "      <td>Huawei</td>\n",
       "      <td>Smartwatch</td>\n",
       "      <td>GT Active</td>\n",
       "      <td>Green</td>\n",
       "      <td>8,990</td>\n",
       "      <td>20,990</td>\n",
       "      <td>AMOLED Display</td>\n",
       "      <td>4.4</td>\n",
       "      <td>Silicone</td>\n",
       "      <td>14</td>\n",
       "    </tr>\n",
       "    <tr>\n",
       "      <th>551</th>\n",
       "      <td>Huawei</td>\n",
       "      <td>Smartwatch</td>\n",
       "      <td>GT Active</td>\n",
       "      <td>Orange</td>\n",
       "      <td>15,990</td>\n",
       "      <td>20,990</td>\n",
       "      <td>AMOLED Display</td>\n",
       "      <td>4.4</td>\n",
       "      <td>Silicone</td>\n",
       "      <td>14</td>\n",
       "    </tr>\n",
       "    <tr>\n",
       "      <th>552</th>\n",
       "      <td>Huawei</td>\n",
       "      <td>Smartwatch</td>\n",
       "      <td>GT Sport</td>\n",
       "      <td>Black</td>\n",
       "      <td>10,990</td>\n",
       "      <td>20,990</td>\n",
       "      <td>AMOLED Display</td>\n",
       "      <td>4.4</td>\n",
       "      <td>Silicone</td>\n",
       "      <td>14</td>\n",
       "    </tr>\n",
       "    <tr>\n",
       "      <th>553</th>\n",
       "      <td>Huawei</td>\n",
       "      <td>Smartwatch</td>\n",
       "      <td>GT Classic</td>\n",
       "      <td>Brown</td>\n",
       "      <td>10,990</td>\n",
       "      <td>21,990</td>\n",
       "      <td>AMOLED Display</td>\n",
       "      <td>4.5</td>\n",
       "      <td>Leather</td>\n",
       "      <td>14</td>\n",
       "    </tr>\n",
       "    <tr>\n",
       "      <th>554</th>\n",
       "      <td>Huawei</td>\n",
       "      <td>Smartwatch</td>\n",
       "      <td>GT2 46mm</td>\n",
       "      <td>Grey</td>\n",
       "      <td>20,990</td>\n",
       "      <td>30,990</td>\n",
       "      <td>AMOLED Display</td>\n",
       "      <td>4.5</td>\n",
       "      <td>Stainless Steel</td>\n",
       "      <td>14</td>\n",
       "    </tr>\n",
       "    <tr>\n",
       "      <th>555</th>\n",
       "      <td>Huawei</td>\n",
       "      <td>Smartwatch</td>\n",
       "      <td>Fit</td>\n",
       "      <td>Blue</td>\n",
       "      <td>9,999</td>\n",
       "      <td>9,999</td>\n",
       "      <td>AMOLED Display</td>\n",
       "      <td>3.4</td>\n",
       "      <td>Silicone</td>\n",
       "      <td>7</td>\n",
       "    </tr>\n",
       "    <tr>\n",
       "      <th>556</th>\n",
       "      <td>Huawei</td>\n",
       "      <td>Smartwatch</td>\n",
       "      <td>Fit</td>\n",
       "      <td>Orange</td>\n",
       "      <td>6,999</td>\n",
       "      <td>9,999</td>\n",
       "      <td>AMOLED Display</td>\n",
       "      <td>3.4</td>\n",
       "      <td>Silicone</td>\n",
       "      <td>7</td>\n",
       "    </tr>\n",
       "    <tr>\n",
       "      <th>557</th>\n",
       "      <td>Huawei</td>\n",
       "      <td>Smartwatch</td>\n",
       "      <td>Watch 2 Sport</td>\n",
       "      <td>Black</td>\n",
       "      <td>29,999</td>\n",
       "      <td>29,999</td>\n",
       "      <td>AMOLED Display</td>\n",
       "      <td>3.8</td>\n",
       "      <td>Silicone</td>\n",
       "      <td>7</td>\n",
       "    </tr>\n",
       "    <tr>\n",
       "      <th>558</th>\n",
       "      <td>Huawei</td>\n",
       "      <td>Smartwatch</td>\n",
       "      <td>Watch 32564546</td>\n",
       "      <td>Black</td>\n",
       "      <td>49,999</td>\n",
       "      <td>49,999</td>\n",
       "      <td>AMOLED Display</td>\n",
       "      <td>4.1</td>\n",
       "      <td>Silicone</td>\n",
       "      <td>14</td>\n",
       "    </tr>\n",
       "    <tr>\n",
       "      <th>559</th>\n",
       "      <td>Huawei</td>\n",
       "      <td>Smartwatch</td>\n",
       "      <td>Watch 2</td>\n",
       "      <td>Black</td>\n",
       "      <td>25,999</td>\n",
       "      <td>25,999</td>\n",
       "      <td>AMOLED Display</td>\n",
       "      <td>3.9</td>\n",
       "      <td>Leather</td>\n",
       "      <td>7</td>\n",
       "    </tr>\n",
       "    <tr>\n",
       "      <th>560</th>\n",
       "      <td>Huawei</td>\n",
       "      <td>Smartwatch</td>\n",
       "      <td>Watch 36456</td>\n",
       "      <td>Black</td>\n",
       "      <td>55,000</td>\n",
       "      <td>55,000</td>\n",
       "      <td>AMOLED Display</td>\n",
       "      <td>4.1</td>\n",
       "      <td>Silicone</td>\n",
       "      <td>14</td>\n",
       "    </tr>\n",
       "    <tr>\n",
       "      <th>561</th>\n",
       "      <td>Huawei</td>\n",
       "      <td>Smartwatch</td>\n",
       "      <td>GT Fortuna-B19S Sport</td>\n",
       "      <td>Black</td>\n",
       "      <td>13,990</td>\n",
       "      <td>20,990</td>\n",
       "      <td>AMOLED Display</td>\n",
       "      <td>4.1</td>\n",
       "      <td>Elastomer</td>\n",
       "      <td>14</td>\n",
       "    </tr>\n",
       "    <tr>\n",
       "      <th>562</th>\n",
       "      <td>GOQii</td>\n",
       "      <td>FitnessBand</td>\n",
       "      <td>HR</td>\n",
       "      <td>Black</td>\n",
       "      <td>1,999</td>\n",
       "      <td>1,999</td>\n",
       "      <td>OLED Display</td>\n",
       "      <td>3.8</td>\n",
       "      <td>Silicone</td>\n",
       "      <td>7</td>\n",
       "    </tr>\n",
       "    <tr>\n",
       "      <th>563</th>\n",
       "      <td>GOQii</td>\n",
       "      <td>FitnessBand</td>\n",
       "      <td>Vital</td>\n",
       "      <td>Black</td>\n",
       "      <td>3,499</td>\n",
       "      <td>3,499</td>\n",
       "      <td>OLED Display</td>\n",
       "      <td>3.7</td>\n",
       "      <td>Thermoplastic polyurethane</td>\n",
       "      <td>7</td>\n",
       "    </tr>\n",
       "    <tr>\n",
       "      <th>564</th>\n",
       "      <td>FOSSIL</td>\n",
       "      <td>Smartwatch</td>\n",
       "      <td>Gen 5E</td>\n",
       "      <td>Grey, Multicolor</td>\n",
       "      <td>18,495</td>\n",
       "      <td>18,495</td>\n",
       "      <td>AMOLED Display</td>\n",
       "      <td>4.2</td>\n",
       "      <td>Stainless Steel</td>\n",
       "      <td>1</td>\n",
       "    </tr>\n",
       "  </tbody>\n",
       "</table>\n",
       "</div>"
      ],
      "text/plain": [
       "    Brand Name  Device Type             Model Name             Color  \\\n",
       "540    GARMIN    Smartwatch                 Hybrid         Rose Gold   \n",
       "541   OnePlus    Smartwatch                  Watch     Black, Silver   \n",
       "542     Huawei   Smartwatch               GT2 46mm      Black, Brown   \n",
       "543     Huawei   Smartwatch                GT2 Pro             Black   \n",
       "544     Huawei   Smartwatch                GT2 Pro              Grey   \n",
       "545     Huawei   Smartwatch             GT2 eSport             Black   \n",
       "546     Huawei   Smartwatch             GT2 eSport               Red   \n",
       "547     Huawei   Smartwatch            GT2 eActive        Green, Red   \n",
       "548     Huawei   Smartwatch               GT2 42mm             Black   \n",
       "549     Huawei   Smartwatch        Stainless Steel             Black   \n",
       "550     Huawei   Smartwatch              GT Active             Green   \n",
       "551     Huawei   Smartwatch              GT Active            Orange   \n",
       "552     Huawei   Smartwatch               GT Sport             Black   \n",
       "553     Huawei   Smartwatch             GT Classic             Brown   \n",
       "554     Huawei   Smartwatch               GT2 46mm              Grey   \n",
       "555     Huawei   Smartwatch                    Fit              Blue   \n",
       "556     Huawei   Smartwatch                    Fit            Orange   \n",
       "557     Huawei   Smartwatch          Watch 2 Sport             Black   \n",
       "558     Huawei   Smartwatch         Watch 32564546             Black   \n",
       "559     Huawei   Smartwatch                Watch 2             Black   \n",
       "560     Huawei   Smartwatch            Watch 36456             Black   \n",
       "561     Huawei   Smartwatch  GT Fortuna-B19S Sport             Black   \n",
       "562      GOQii  FitnessBand                     HR             Black   \n",
       "563      GOQii  FitnessBand                  Vital             Black   \n",
       "564    FOSSIL    Smartwatch                 Gen 5E  Grey, Multicolor   \n",
       "\n",
       "    Selling Price Original Price         Display  Rating (Out of 5)  \\\n",
       "540        15,911         21,335     LED Display                0.0   \n",
       "541        14,999         16,999  AMOLED Display                4.4   \n",
       "542        14,990         20,990  AMOLED Display                4.5   \n",
       "543        22,990         29,990  AMOLED Display                4.4   \n",
       "544        24,990         34,990  AMOLED Display                3.5   \n",
       "545        11,990         19,990  AMOLED Display                4.3   \n",
       "546         8,990         19,990  AMOLED Display                4.3   \n",
       "547        11,990         19,990  AMOLED Display                4.3   \n",
       "548        14,990         19,990  AMOLED Display                4.3   \n",
       "549        19,990         19,990  AMOLED Display                4.5   \n",
       "550         8,990         20,990  AMOLED Display                4.4   \n",
       "551        15,990         20,990  AMOLED Display                4.4   \n",
       "552        10,990         20,990  AMOLED Display                4.4   \n",
       "553        10,990         21,990  AMOLED Display                4.5   \n",
       "554        20,990         30,990  AMOLED Display                4.5   \n",
       "555         9,999          9,999  AMOLED Display                3.4   \n",
       "556         6,999          9,999  AMOLED Display                3.4   \n",
       "557        29,999         29,999  AMOLED Display                3.8   \n",
       "558        49,999         49,999  AMOLED Display                4.1   \n",
       "559        25,999         25,999  AMOLED Display                3.9   \n",
       "560        55,000         55,000  AMOLED Display                4.1   \n",
       "561        13,990         20,990  AMOLED Display                4.1   \n",
       "562         1,999          1,999    OLED Display                3.8   \n",
       "563         3,499          3,499    OLED Display                3.7   \n",
       "564        18,495         18,495  AMOLED Display                4.2   \n",
       "\n",
       "                 Strap Material  Average Battery Life (in days)  \n",
       "540                    Silicone                               7  \n",
       "541                   Elastomer                              14  \n",
       "542                   Elastomer                              14  \n",
       "543                   Elastomer                              14  \n",
       "544                   Elastomer                              14  \n",
       "545                   Elastomer                              14  \n",
       "546                   Elastomer                              14  \n",
       "547  Thermoplastic polyurethane                              14  \n",
       "548                   Elastomer                              14  \n",
       "549                     Leather                              14  \n",
       "550                    Silicone                              14  \n",
       "551                    Silicone                              14  \n",
       "552                    Silicone                              14  \n",
       "553                     Leather                              14  \n",
       "554             Stainless Steel                              14  \n",
       "555                    Silicone                               7  \n",
       "556                    Silicone                               7  \n",
       "557                    Silicone                               7  \n",
       "558                    Silicone                              14  \n",
       "559                     Leather                               7  \n",
       "560                    Silicone                              14  \n",
       "561                   Elastomer                              14  \n",
       "562                    Silicone                               7  \n",
       "563  Thermoplastic polyurethane                               7  \n",
       "564             Stainless Steel                               1  "
      ]
     },
     "execution_count": 20,
     "metadata": {},
     "output_type": "execute_result"
    }
   ],
   "source": [
    "fit3.tail(n=25)"
   ]
  },
  {
   "cell_type": "code",
   "execution_count": 21,
   "id": "6fd731be",
   "metadata": {},
   "outputs": [
    {
     "data": {
      "text/html": [
       "<div>\n",
       "<style scoped>\n",
       "    .dataframe tbody tr th:only-of-type {\n",
       "        vertical-align: middle;\n",
       "    }\n",
       "\n",
       "    .dataframe tbody tr th {\n",
       "        vertical-align: top;\n",
       "    }\n",
       "\n",
       "    .dataframe thead th {\n",
       "        text-align: right;\n",
       "    }\n",
       "</style>\n",
       "<table border=\"1\" class=\"dataframe\">\n",
       "  <thead>\n",
       "    <tr style=\"text-align: right;\">\n",
       "      <th></th>\n",
       "      <th>Rating (Out of 5)</th>\n",
       "      <th>Average Battery Life (in days)</th>\n",
       "    </tr>\n",
       "  </thead>\n",
       "  <tbody>\n",
       "    <tr>\n",
       "      <th>count</th>\n",
       "      <td>565.000000</td>\n",
       "      <td>565.000000</td>\n",
       "    </tr>\n",
       "    <tr>\n",
       "      <th>mean</th>\n",
       "      <td>3.848142</td>\n",
       "      <td>9.026549</td>\n",
       "    </tr>\n",
       "    <tr>\n",
       "      <th>std</th>\n",
       "      <td>1.269186</td>\n",
       "      <td>7.868670</td>\n",
       "    </tr>\n",
       "    <tr>\n",
       "      <th>min</th>\n",
       "      <td>0.000000</td>\n",
       "      <td>1.000000</td>\n",
       "    </tr>\n",
       "    <tr>\n",
       "      <th>25%</th>\n",
       "      <td>3.900000</td>\n",
       "      <td>2.000000</td>\n",
       "    </tr>\n",
       "    <tr>\n",
       "      <th>50%</th>\n",
       "      <td>4.200000</td>\n",
       "      <td>7.000000</td>\n",
       "    </tr>\n",
       "    <tr>\n",
       "      <th>75%</th>\n",
       "      <td>4.500000</td>\n",
       "      <td>14.000000</td>\n",
       "    </tr>\n",
       "    <tr>\n",
       "      <th>max</th>\n",
       "      <td>5.000000</td>\n",
       "      <td>45.000000</td>\n",
       "    </tr>\n",
       "  </tbody>\n",
       "</table>\n",
       "</div>"
      ],
      "text/plain": [
       "       Rating (Out of 5)  Average Battery Life (in days)\n",
       "count         565.000000                      565.000000\n",
       "mean            3.848142                        9.026549\n",
       "std             1.269186                        7.868670\n",
       "min             0.000000                        1.000000\n",
       "25%             3.900000                        2.000000\n",
       "50%             4.200000                        7.000000\n",
       "75%             4.500000                       14.000000\n",
       "max             5.000000                       45.000000"
      ]
     },
     "execution_count": 21,
     "metadata": {},
     "output_type": "execute_result"
    }
   ],
   "source": [
    "fit3.describe()"
   ]
  },
  {
   "cell_type": "code",
   "execution_count": 22,
   "id": "7886f9a2",
   "metadata": {},
   "outputs": [
    {
     "data": {
      "text/plain": [
       "Index(['Brand Name', 'Device Type', 'Model Name', 'Color', 'Selling Price',\n",
       "       'Original Price', 'Display', 'Rating (Out of 5)', 'Strap Material',\n",
       "       'Average Battery Life (in days)'],\n",
       "      dtype='object')"
      ]
     },
     "execution_count": 22,
     "metadata": {},
     "output_type": "execute_result"
    }
   ],
   "source": [
    "fit3.columns"
   ]
  },
  {
   "cell_type": "markdown",
   "id": "19d26d88",
   "metadata": {},
   "source": [
    "# Visualising the datasets"
   ]
  },
  {
   "cell_type": "markdown",
   "id": "e1289175",
   "metadata": {},
   "source": [
    "# A) Pairplot"
   ]
  },
  {
   "cell_type": "code",
   "execution_count": 23,
   "id": "64d7e8b8",
   "metadata": {},
   "outputs": [
    {
     "data": {
      "text/plain": [
       "<seaborn.axisgrid.PairGrid at 0x1e7d6c9fa60>"
      ]
     },
     "execution_count": 23,
     "metadata": {},
     "output_type": "execute_result"
    },
    {
     "data": {
      "image/png": "[encoded data removed]",
      "text/plain": [
       "<Figure size 360x360 with 6 Axes>"
      ]
     },
     "metadata": {
      "needs_background": "light"
     },
     "output_type": "display_data"
    }
   ],
   "source": [
    "sns.pairplot(fit3)"
   ]
  },
  {
   "cell_type": "markdown",
   "id": "b7401def",
   "metadata": {},
   "source": [
    "# B)Histplot"
   ]
  },
  {
   "cell_type": "code",
   "execution_count": 25,
   "id": "98c732ce",
   "metadata": {},
   "outputs": [
    {
     "data": {
      "text/plain": [
       "(array([172.,  18., 139.,  11., 187.,   4.,   2.,   0.,   7.,   5.,  12.,\n",
       "          0.,   0.,   0.,   0.,   8.]),\n",
       " array([ 1.  ,  3.75,  6.5 ,  9.25, 12.  , 14.75, 17.5 , 20.25, 23.  ,\n",
       "        25.75, 28.5 , 31.25, 34.  , 36.75, 39.5 , 42.25, 45.  ]),\n",
       " <BarContainer object of 16 artists>)"
      ]
     },
     "execution_count": 25,
     "metadata": {},
     "output_type": "execute_result"
    },
    {
     "data": {
      "image/png": "[encoded data removed]",
      "text/plain": [
       "<Figure size 432x288 with 1 Axes>"
      ]
     },
     "metadata": {
      "needs_background": "light"
     },
     "output_type": "display_data"
    }
   ],
   "source": [
    "num_bins=16\n",
    "plt.hist(fit3['Average Battery Life (in days)'],num_bins)"
   ]
  },
  {
   "cell_type": "code",
   "execution_count": 155,
   "id": "de235f22",
   "metadata": {},
   "outputs": [
    {
     "data": {
      "text/plain": [
       "(array([ 51.,   0.,   0.,   0.,   0.,   0.,   0.,   0.,   0.,   0.,   0.,\n",
       "          1.,   1.,   0.,   0.,   2.,   4.,   5.,   5.,   7.,  21.,  49.,\n",
       "         88.,  61., 106., 126.,  29.,   9.]),\n",
       " array([0.        , 0.17857143, 0.35714286, 0.53571429, 0.71428571,\n",
       "        0.89285714, 1.07142857, 1.25      , 1.42857143, 1.60714286,\n",
       "        1.78571429, 1.96428571, 2.14285714, 2.32142857, 2.5       ,\n",
       "        2.67857143, 2.85714286, 3.03571429, 3.21428571, 3.39285714,\n",
       "        3.57142857, 3.75      , 3.92857143, 4.10714286, 4.28571429,\n",
       "        4.46428571, 4.64285714, 4.82142857, 5.        ]),\n",
       " <BarContainer object of 28 artists>)"
      ]
     },
     "execution_count": 155,
     "metadata": {},
     "output_type": "execute_result"
    },
    {
     "data": {
      "image/png": "[encoded data removed]",
      "text/plain": [
       "<Figure size 432x288 with 1 Axes>"
      ]
     },
     "metadata": {
      "needs_background": "light"
     },
     "output_type": "display_data"
    }
   ],
   "source": [
    "num_bins=28\n",
    "plt.hist(fit3['Rating (Out of 5)'],num_bins)"
   ]
  },
  {
   "cell_type": "markdown",
   "id": "786ad263",
   "metadata": {},
   "source": [
    "# +Values counts"
   ]
  },
  {
   "cell_type": "code",
   "execution_count": 27,
   "id": "029a7d8c",
   "metadata": {},
   "outputs": [
    {
     "data": {
      "text/plain": [
       "AMOLED Display         355\n",
       "OLED Retina Display     86\n",
       "OLED Display            43\n",
       "LED Display             28\n",
       "PMOLED Display          20\n",
       "Name: Display, dtype: int64"
      ]
     },
     "execution_count": 27,
     "metadata": {},
     "output_type": "execute_result"
    }
   ],
   "source": [
    "fit3['Display'].value_counts()[:5]"
   ]
  },
  {
   "cell_type": "code",
   "execution_count": 26,
   "id": "4ec10fa4",
   "metadata": {},
   "outputs": [
    {
     "data": {
      "text/plain": [
       "FOSSIL      133\n",
       "GARMIN      101\n",
       "APPLE        86\n",
       "FitBit       51\n",
       "SAMSUNG      48\n",
       "huami        36\n",
       "Huawei       26\n",
       "Honor        20\n",
       "Noise        17\n",
       "realme       12\n",
       "Xiaomi       10\n",
       "Fastrack      6\n",
       "boAt          4\n",
       "GOQii         4\n",
       "OnePlus       3\n",
       "Oppo          2\n",
       "Noise         2\n",
       "LCARE         2\n",
       "Infinix       1\n",
       "LAVA          1\n",
       "Name: Brand Name, dtype: int64"
      ]
     },
     "execution_count": 26,
     "metadata": {},
     "output_type": "execute_result"
    }
   ],
   "source": [
    "fit3['Brand Name'].value_counts()"
   ]
  },
  {
   "cell_type": "code",
   "execution_count": 31,
   "id": "194ab392",
   "metadata": {},
   "outputs": [
    {
     "data": {
      "text/plain": [
       "Smartwatch     490\n",
       "FitnessBand     75\n",
       "Name: Device Type, dtype: int64"
      ]
     },
     "execution_count": 31,
     "metadata": {},
     "output_type": "execute_result"
    }
   ],
   "source": [
    "fit3['Device Type'].value_counts()"
   ]
  },
  {
   "cell_type": "code",
   "execution_count": 103,
   "id": "483b2643",
   "metadata": {},
   "outputs": [
    {
     "data": {
      "text/plain": [
       "Black        193\n",
       "Blue          30\n",
       "Silver        25\n",
       "Grey          21\n",
       "Gold          20\n",
       "White         17\n",
       "Brown         13\n",
       "Red           10\n",
       "Black          8\n",
       "Pink Sand      7\n",
       "Deep Navy      7\n",
       "Grey           5\n",
       "Beige          5\n",
       "Purple         5\n",
       "Name: Color, dtype: int64"
      ]
     },
     "execution_count": 103,
     "metadata": {},
     "output_type": "execute_result"
    }
   ],
   "source": [
    "fit3['Color'].value_counts()[:14]"
   ]
  },
  {
   "cell_type": "code",
   "execution_count": 79,
   "id": "2fabd973",
   "metadata": {},
   "outputs": [
    {
     "data": {
      "text/plain": [
       "Silicone                      232\n",
       "Stainless Steel                97\n",
       "Leather                        59\n",
       "Aluminium                      57\n",
       "Elastomer                      45\n",
       "Thermoplastic polyurethane     33\n",
       "Plastic                        16\n",
       "Nylon                          12\n",
       "Rubber                         11\n",
       "Leather                         1\n",
       "leather                         1\n",
       "Fabric                          1\n",
       "Name: Strap Material, dtype: int64"
      ]
     },
     "execution_count": 79,
     "metadata": {},
     "output_type": "execute_result"
    }
   ],
   "source": [
    "fit3['Strap Material'].value_counts()"
   ]
  },
  {
   "cell_type": "code",
   "execution_count": 85,
   "id": "182640d0",
   "metadata": {},
   "outputs": [
    {
     "data": {
      "text/plain": [
       "Charge 2                                       8\n",
       "Gen 5 Julianna HR                              6\n",
       "Band 2                                         5\n",
       "Amazfit Bip                                    5\n",
       "Jacqueline Hybrid                              5\n",
       "Versa                                          4\n",
       "Surge                                          4\n",
       "Band 5                                         4\n",
       "Amazfit Bip S                                  4\n",
       "Amazfit GTS                                    4\n",
       "Amazfit Verge                                  4\n",
       "Forerunner                                     4\n",
       "Band 3                                         4\n",
       "Gen 3 Q Explorist                              4\n",
       "Galaxy Classic 4                               4\n",
       "Sport                                          4\n",
       "Marshall                                       4\n",
       "Carlie Hybrid                                  3\n",
       "Lily                                           3\n",
       "SE GPS + Cellular 40 mm Gold Aluminium Case    3\n",
       "Name: Model Name, dtype: int64"
      ]
     },
     "execution_count": 85,
     "metadata": {},
     "output_type": "execute_result"
    }
   ],
   "source": [
    "fit3['Model Name'].value_counts()[:20]"
   ]
  },
  {
   "cell_type": "markdown",
   "id": "23257725",
   "metadata": {},
   "source": [
    "# C) Barplot"
   ]
  },
  {
   "cell_type": "code",
   "execution_count": 105,
   "id": "d09520e8",
   "metadata": {},
   "outputs": [
    {
     "data": {
      "image/png": "[encoded data removed]",
      "text/plain": [
       "<Figure size 432x288 with 1 Axes>"
      ]
     },
     "metadata": {
      "needs_background": "light"
     },
     "output_type": "display_data"
    }
   ],
   "source": [
    "x = np.array([\"AMOLED\", \"OLED Retina\", \"OLED\", \"LED\",\"PMOLED\"])\n",
    "y = np.array([355,86,43,28,20])\n",
    "\n",
    "plt.bar(x,y,color='blue')\n",
    "plt.show()"
   ]
  },
  {
   "cell_type": "code",
   "execution_count": 29,
   "id": "501ec46e",
   "metadata": {},
   "outputs": [
    {
     "data": {
      "image/png": "[encoded data removed]",
      "text/plain": [
       "<Figure size 432x288 with 1 Axes>"
      ]
     },
     "metadata": {
      "needs_background": "light"
     },
     "output_type": "display_data"
    }
   ],
   "source": [
    "x = ([\"FOSSIL\", \"GARMIN\", \"APPLE\", \"FitBit\",\"SAMSUNG\",\"huami\",\"Honor\"])\n",
    "y = ([133,101,86,51,48,36,26])\n",
    "\n",
    "plt.bar(x,y,color=\"magenta\")\n",
    "plt.show()"
   ]
  },
  {
   "cell_type": "code",
   "execution_count": 81,
   "id": "1f7d3252",
   "metadata": {},
   "outputs": [
    {
     "data": {
      "image/png": "[encoded data removed]",
      "text/plain": [
       "<Figure size 432x288 with 1 Axes>"
      ]
     },
     "metadata": {
      "needs_background": "light"
     },
     "output_type": "display_data"
    }
   ],
   "source": [
    "x = ([\"silicone\", \"stainless stell\", \"leather\", \"aliminium\",\"elastomer\",\"TP\",\"Plastic\"])\n",
    "y = ([232,95,59,57,45,33,16])\n",
    "\n",
    "plt.bar(x,y,color=\"red\")\n",
    "plt.show()"
   ]
  },
  {
   "cell_type": "code",
   "execution_count": null,
   "id": "0ed973c6",
   "metadata": {},
   "outputs": [],
   "source": [
    "x = ([\"silicone\", \"stainless stell\", \"leather\", \"aliminium\",\"elastomer\",\"TP\",\"Plastic\"])\n",
    "y = ([232,95,59,57,45,33,16])\n",
    "\n",
    "plt.bar(x,y,color=\"red\")\n",
    "plt.show()"
   ]
  },
  {
   "cell_type": "code",
   "execution_count": 104,
   "id": "710eafad",
   "metadata": {},
   "outputs": [
    {
     "data": {
      "image/png": "[encoded data removed]",
      "text/plain": [
       "<Figure size 432x288 with 1 Axes>"
      ]
     },
     "metadata": {
      "needs_background": "light"
     },
     "output_type": "display_data"
    }
   ],
   "source": [
    "x = ([\"black\", \"blue\", \"silver\", \"grey\",\"gold\",\"white\",\"brown\",\"red\"])\n",
    "y = ([193,30,25,21,20,17,13,10])\n",
    "\n",
    "plt.bar(x,y,color=\"orange\")\n",
    "plt.show()"
   ]
  },
  {
   "cell_type": "markdown",
   "id": "35f6857e",
   "metadata": {},
   "source": [
    "# D) Piechart"
   ]
  },
  {
   "cell_type": "code",
   "execution_count": 76,
   "id": "71bba356",
   "metadata": {
    "scrolled": true
   },
   "outputs": [
    {
     "data": {
      "image/png": "[encoded data removed]",
      "text/plain": [
       "<Figure size 432x288 with 1 Axes>"
      ]
     },
     "metadata": {},
     "output_type": "display_data"
    }
   ],
   "source": [
    "y = ([133,101,86,51,48,36,26])\n",
    "BrandName = [\"FOSSIL\", \"GARMIN\", \"APPLE\", \"FitBit\",\"SAMSUNG\",\"huami\",\"Honor\"]\n",
    "\n",
    "plt.pie(y,labels=BrandName,autopct='%0.1f%%')\n",
    "plt.show() "
   ]
  },
  {
   "cell_type": "code",
   "execution_count": 130,
   "id": "b4495d9b",
   "metadata": {},
   "outputs": [
    {
     "data": {
      "image/png": "[encoded data removed]",
      "text/plain": [
       "<Figure size 432x288 with 1 Axes>"
      ]
     },
     "metadata": {},
     "output_type": "display_data"
    }
   ],
   "source": [
    "y = ([232,97,59,57,45,33,16,12])\n",
    "strap_material = [\"silicone\",\"SS\",\"leather\",\"aluminium\",\"elastomer\",\"Tp\",\"plastic\",\"nylon\"]\n",
    "\n",
    "plt.pie(y,labels=strap_material,autopct='%0.1f%%')\n",
    "plt.show() "
   ]
  },
  {
   "cell_type": "code",
   "execution_count": 33,
   "id": "66968447",
   "metadata": {},
   "outputs": [
    {
     "data": {
      "text/plain": [
       "Index(['Brand Name', 'Device Type', 'Model Name', 'Color', 'Selling Price',\n",
       "       'Original Price', 'Display', 'Rating (Out of 5)', 'Strap Material',\n",
       "       'Average Battery Life (in days)', 'Reviews'],\n",
       "      dtype='object')"
      ]
     },
     "execution_count": 33,
     "metadata": {},
     "output_type": "execute_result"
    }
   ],
   "source": [
    "fit.columns"
   ]
  },
  {
   "cell_type": "code",
   "execution_count": 34,
   "id": "8ffa3555",
   "metadata": {},
   "outputs": [
    {
     "data": {
      "text/plain": [
       "Index(['Brand Name', 'Device Type', 'Model Name', 'Color', 'Selling Price',\n",
       "       'Original Price', 'Display', 'Rating (Out of 5)', 'Strap Material',\n",
       "       'Average Battery Life (in days)'],\n",
       "      dtype='object')"
      ]
     },
     "execution_count": 34,
     "metadata": {},
     "output_type": "execute_result"
    }
   ],
   "source": [
    "fit3.columns"
   ]
  },
  {
   "cell_type": "markdown",
   "id": "8be5e9bb",
   "metadata": {},
   "source": [
    "# E)Relplot"
   ]
  },
  {
   "cell_type": "code",
   "execution_count": 24,
   "id": "bf0a8d85",
   "metadata": {},
   "outputs": [
    {
     "data": {
      "text/plain": [
       "<seaborn.axisgrid.FacetGrid at 0x1e7d74901f0>"
      ]
     },
     "execution_count": 24,
     "metadata": {},
     "output_type": "execute_result"
    },
    {
     "data": {
      "image/png": "[encoded data removed]",
      "text/plain": [
       "<Figure size 360x360 with 1 Axes>"
      ]
     },
     "metadata": {
      "needs_background": "light"
     },
     "output_type": "display_data"
    }
   ],
   "source": [
    "sns.relplot(x=\"Rating (Out of 5)\", y=\"Average Battery Life (in days)\", kind='line', data=fit3)"
   ]
  },
  {
   "cell_type": "markdown",
   "id": "5dfcaef3",
   "metadata": {},
   "source": [
    "# F)Scatterplot"
   ]
  },
  {
   "cell_type": "code",
   "execution_count": 127,
   "id": "e922f82e",
   "metadata": {},
   "outputs": [
    {
     "data": {
      "text/plain": [
       "<AxesSubplot:xlabel='Selling Price', ylabel='Original Price'>"
      ]
     },
     "execution_count": 127,
     "metadata": {},
     "output_type": "execute_result"
    },
    {
     "data": {
      "image/png": "[encoded data removed]",
      "text/plain": [
       "<Figure size 432x288 with 1 Axes>"
      ]
     },
     "metadata": {
      "needs_background": "light"
     },
     "output_type": "display_data"
    }
   ],
   "source": [
    "sns.lineplot(x='Selling Price',y='Original Price',data=fit3)"
   ]
  },
  {
   "cell_type": "code",
   "execution_count": 37,
   "id": "c4c85fe3",
   "metadata": {},
   "outputs": [
    {
     "data": {
      "text/plain": [
       "<AxesSubplot:xlabel='Brand Name', ylabel='Average Battery Life (in days)'>"
      ]
     },
     "execution_count": 37,
     "metadata": {},
     "output_type": "execute_result"
    },
    {
     "data": {
      "image/png": "[encoded data removed]",
      "text/plain": [
       "<Figure size 432x288 with 1 Axes>"
      ]
     },
     "metadata": {
      "needs_background": "light"
     },
     "output_type": "display_data"
    }
   ],
   "source": [
    "sns.scatterplot(x='Brand Name',y='Average Battery Life (in days)',hue='Device Type',data=fit3)"
   ]
  },
  {
   "cell_type": "markdown",
   "id": "da49392f",
   "metadata": {},
   "source": [
    "# G)Heatmap"
   ]
  },
  {
   "cell_type": "code",
   "execution_count": 165,
   "id": "94de9dd7",
   "metadata": {},
   "outputs": [
    {
     "data": {
      "text/plain": [
       "<AxesSubplot:>"
      ]
     },
     "execution_count": 165,
     "metadata": {},
     "output_type": "execute_result"
    },
    {
     "data": {
      "image/png": "[encoded data removed]",
      "text/plain": [
       "<Figure size 432x288 with 2 Axes>"
      ]
     },
     "metadata": {
      "needs_background": "light"
     },
     "output_type": "display_data"
    }
   ],
   "source": [
    "sns.heatmap(fit3.corr(),annot=True,cmap='Blues')"
   ]
  },
  {
   "cell_type": "markdown",
   "id": "539e3319",
   "metadata": {},
   "source": [
    "# H)lmplot"
   ]
  },
  {
   "cell_type": "code",
   "execution_count": 123,
   "id": "e1fa78d6",
   "metadata": {},
   "outputs": [
    {
     "data": {
      "text/plain": [
       "<seaborn.axisgrid.FacetGrid at 0x1e7db7832e0>"
      ]
     },
     "execution_count": 123,
     "metadata": {},
     "output_type": "execute_result"
    },
    {
     "data": {
      "image/png": "[encoded data removed]",
      "text/plain": [
       "<Figure size 456.5x360 with 1 Axes>"
      ]
     },
     "metadata": {
      "needs_background": "light"
     },
     "output_type": "display_data"
    }
   ],
   "source": [
    "import seaborn as sns\n",
    "sns.lmplot(x='Average Battery Life (in days)',y='Rating (Out of 5)',hue='Device Type', data=fit3, markers=['o','*'],\n",
    "           scatter_kws={'s':100,'linewidth':0.5,'edgecolor':'w'})"
   ]
  },
  {
   "cell_type": "markdown",
   "id": "72ef63f7",
   "metadata": {},
   "source": [
    "# I)Boxplot"
   ]
  },
  {
   "cell_type": "code",
   "execution_count": 153,
   "id": "972f0054",
   "metadata": {},
   "outputs": [
    {
     "data": {
      "text/plain": [
       "<AxesSubplot:xlabel='Average Battery Life (in days)', ylabel='Rating (Out of 5)'>"
      ]
     },
     "execution_count": 153,
     "metadata": {},
     "output_type": "execute_result"
    },
    {
     "data": {
      "image/png": "[encoded data removed]",
      "text/plain": [
       "<Figure size 432x288 with 1 Axes>"
      ]
     },
     "metadata": {
      "needs_background": "light"
     },
     "output_type": "display_data"
    }
   ],
   "source": [
    "sns.boxplot(x='Average Battery Life (in days)',y='Rating (Out of 5)',data=fit3,hue='Device Type')"
   ]
  },
  {
   "cell_type": "code",
   "execution_count": null,
   "id": "0cf8db01",
   "metadata": {},
   "outputs": [],
   "source": []
  }
 ],
 "metadata": {
  "kernelspec": {
   "display_name": "Python 3",
   "language": "python",
   "name": "python3"
  },
  "language_info": {
   "codemirror_mode": {
    "name": "ipython",
    "version": 3
   },
   "file_extension": ".py",
   "mimetype": "text/x-python",
   "name": "python",
   "nbconvert_exporter": "python",
   "pygments_lexer": "ipython3",
   "version": "3.8.8"
  }
 },
 "nbformat": 4,
 "nbformat_minor": 5
}
